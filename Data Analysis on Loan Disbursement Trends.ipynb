{
 "cells": [
  {
   "cell_type": "markdown",
   "metadata": {},
   "source": [
    "# Python Assignment"
   ]
  },
  {
   "cell_type": "markdown",
   "metadata": {},
   "source": [
    "# Data Manipulation \n",
    "\n",
    "---------------------------------------------------\n",
    "Clean and merge LoanData , ProductDets and Branchdets"
   ]
  },
  {
   "cell_type": "code",
   "execution_count": 1,
   "metadata": {},
   "outputs": [],
   "source": [
    "import pandas as pd\n",
    "import numpy as np"
   ]
  },
  {
   "cell_type": "code",
   "execution_count": 2,
   "metadata": {},
   "outputs": [],
   "source": [
    "customer = pd.read_excel('PythonData.xlsx',sheet_name= 'LoanData' )"
   ]
  },
  {
   "cell_type": "code",
   "execution_count": 3,
   "metadata": {},
   "outputs": [
    {
     "data": {
      "text/plain": [
       "0"
      ]
     },
     "execution_count": 3,
     "metadata": {},
     "output_type": "execute_result"
    }
   ],
   "source": [
    "customer.duplicated().sum()"
   ]
  },
  {
   "cell_type": "code",
   "execution_count": 4,
   "metadata": {},
   "outputs": [
    {
     "data": {
      "text/plain": [
       "10"
      ]
     },
     "execution_count": 4,
     "metadata": {},
     "output_type": "execute_result"
    }
   ],
   "source": [
    "product = pd.read_excel('PythonData.xlsx',sheet_name= 'ProductDets' )\n",
    "product.duplicated().sum()"
   ]
  },
  {
   "cell_type": "code",
   "execution_count": 5,
   "metadata": {},
   "outputs": [],
   "source": [
    "branch = pd.read_excel('PythonData.xlsx',sheet_name= 'BranchDets' )"
   ]
  },
  {
   "cell_type": "code",
   "execution_count": 6,
   "metadata": {},
   "outputs": [
    {
     "data": {
      "text/html": [
       "<div>\n",
       "<style scoped>\n",
       "    .dataframe tbody tr th:only-of-type {\n",
       "        vertical-align: middle;\n",
       "    }\n",
       "\n",
       "    .dataframe tbody tr th {\n",
       "        vertical-align: top;\n",
       "    }\n",
       "\n",
       "    .dataframe thead th {\n",
       "        text-align: right;\n",
       "    }\n",
       "</style>\n",
       "<table border=\"1\" class=\"dataframe\">\n",
       "  <thead>\n",
       "    <tr style=\"text-align: right;\">\n",
       "      <th></th>\n",
       "      <th>CODE</th>\n",
       "      <th>CUSTID</th>\n",
       "      <th>LOANID</th>\n",
       "      <th>LOANAMT</th>\n",
       "      <th>DISB_DATE</th>\n",
       "      <th>AGE</th>\n",
       "    </tr>\n",
       "  </thead>\n",
       "  <tbody>\n",
       "    <tr>\n",
       "      <th>0</th>\n",
       "      <td>2</td>\n",
       "      <td>187</td>\n",
       "      <td>2086</td>\n",
       "      <td>32000.0</td>\n",
       "      <td>2024-05-25</td>\n",
       "      <td>31</td>\n",
       "    </tr>\n",
       "    <tr>\n",
       "      <th>1</th>\n",
       "      <td>5</td>\n",
       "      <td>124</td>\n",
       "      <td>2048</td>\n",
       "      <td>145000.0</td>\n",
       "      <td>2024-04-05</td>\n",
       "      <td>40</td>\n",
       "    </tr>\n",
       "    <tr>\n",
       "      <th>2</th>\n",
       "      <td>1</td>\n",
       "      <td>131</td>\n",
       "      <td>2008</td>\n",
       "      <td>99000.0</td>\n",
       "      <td>2024-07-06</td>\n",
       "      <td>32</td>\n",
       "    </tr>\n",
       "    <tr>\n",
       "      <th>3</th>\n",
       "      <td>2</td>\n",
       "      <td>148</td>\n",
       "      <td>2100</td>\n",
       "      <td>151000.0</td>\n",
       "      <td>2024-09-14</td>\n",
       "      <td>34</td>\n",
       "    </tr>\n",
       "    <tr>\n",
       "      <th>4</th>\n",
       "      <td>2</td>\n",
       "      <td>195</td>\n",
       "      <td>2051</td>\n",
       "      <td>136000.0</td>\n",
       "      <td>2024-09-05</td>\n",
       "      <td>34</td>\n",
       "    </tr>\n",
       "  </tbody>\n",
       "</table>\n",
       "</div>"
      ],
      "text/plain": [
       "   CODE  CUSTID  LOANID   LOANAMT   DISB_DATE  AGE\n",
       "0     2     187    2086   32000.0  2024-05-25   31\n",
       "1     5     124    2048  145000.0  2024-04-05   40\n",
       "2     1     131    2008   99000.0  2024-07-06   32\n",
       "3     2     148    2100  151000.0  2024-09-14   34\n",
       "4     2     195    2051  136000.0  2024-09-05   34"
      ]
     },
     "execution_count": 6,
     "metadata": {},
     "output_type": "execute_result"
    }
   ],
   "source": [
    "customer.head()"
   ]
  },
  {
   "cell_type": "code",
   "execution_count": 7,
   "metadata": {},
   "outputs": [
    {
     "data": {
      "text/html": [
       "<div>\n",
       "<style scoped>\n",
       "    .dataframe tbody tr th:only-of-type {\n",
       "        vertical-align: middle;\n",
       "    }\n",
       "\n",
       "    .dataframe tbody tr th {\n",
       "        vertical-align: top;\n",
       "    }\n",
       "\n",
       "    .dataframe thead th {\n",
       "        text-align: right;\n",
       "    }\n",
       "</style>\n",
       "<table border=\"1\" class=\"dataframe\">\n",
       "  <thead>\n",
       "    <tr style=\"text-align: right;\">\n",
       "      <th></th>\n",
       "      <th>LOANID</th>\n",
       "      <th>PRODUCT</th>\n",
       "    </tr>\n",
       "  </thead>\n",
       "  <tbody>\n",
       "    <tr>\n",
       "      <th>0</th>\n",
       "      <td>2006</td>\n",
       "      <td>Gold Loan</td>\n",
       "    </tr>\n",
       "    <tr>\n",
       "      <th>1</th>\n",
       "      <td>2012</td>\n",
       "      <td>Credit Card</td>\n",
       "    </tr>\n",
       "    <tr>\n",
       "      <th>2</th>\n",
       "      <td>2014</td>\n",
       "      <td>Loan Against Property</td>\n",
       "    </tr>\n",
       "    <tr>\n",
       "      <th>3</th>\n",
       "      <td>2080</td>\n",
       "      <td>Personal Loan</td>\n",
       "    </tr>\n",
       "    <tr>\n",
       "      <th>4</th>\n",
       "      <td>2075</td>\n",
       "      <td>Loan Against Property</td>\n",
       "    </tr>\n",
       "  </tbody>\n",
       "</table>\n",
       "</div>"
      ],
      "text/plain": [
       "   LOANID                PRODUCT\n",
       "0    2006              Gold Loan\n",
       "1    2012            Credit Card\n",
       "2    2014  Loan Against Property\n",
       "3    2080          Personal Loan\n",
       "4    2075  Loan Against Property"
      ]
     },
     "execution_count": 7,
     "metadata": {},
     "output_type": "execute_result"
    }
   ],
   "source": [
    "product.head()"
   ]
  },
  {
   "cell_type": "code",
   "execution_count": 8,
   "metadata": {},
   "outputs": [
    {
     "data": {
      "text/html": [
       "<div>\n",
       "<style scoped>\n",
       "    .dataframe tbody tr th:only-of-type {\n",
       "        vertical-align: middle;\n",
       "    }\n",
       "\n",
       "    .dataframe tbody tr th {\n",
       "        vertical-align: top;\n",
       "    }\n",
       "\n",
       "    .dataframe thead th {\n",
       "        text-align: right;\n",
       "    }\n",
       "</style>\n",
       "<table border=\"1\" class=\"dataframe\">\n",
       "  <thead>\n",
       "    <tr style=\"text-align: right;\">\n",
       "      <th></th>\n",
       "      <th>BRANCH_CODE</th>\n",
       "      <th>BRANCH_STATE</th>\n",
       "    </tr>\n",
       "  </thead>\n",
       "  <tbody>\n",
       "    <tr>\n",
       "      <th>0</th>\n",
       "      <td>1</td>\n",
       "      <td>Maharashtra</td>\n",
       "    </tr>\n",
       "    <tr>\n",
       "      <th>1</th>\n",
       "      <td>2</td>\n",
       "      <td>Rajasthan</td>\n",
       "    </tr>\n",
       "    <tr>\n",
       "      <th>2</th>\n",
       "      <td>3</td>\n",
       "      <td>Tamil Nadu</td>\n",
       "    </tr>\n",
       "    <tr>\n",
       "      <th>3</th>\n",
       "      <td>4</td>\n",
       "      <td>West Bengal</td>\n",
       "    </tr>\n",
       "    <tr>\n",
       "      <th>4</th>\n",
       "      <td>5</td>\n",
       "      <td>Punjab</td>\n",
       "    </tr>\n",
       "  </tbody>\n",
       "</table>\n",
       "</div>"
      ],
      "text/plain": [
       "   BRANCH_CODE BRANCH_STATE\n",
       "0            1  Maharashtra\n",
       "1            2    Rajasthan\n",
       "2            3   Tamil Nadu\n",
       "3            4  West Bengal\n",
       "4            5       Punjab"
      ]
     },
     "execution_count": 8,
     "metadata": {},
     "output_type": "execute_result"
    }
   ],
   "source": [
    "branch.head()"
   ]
  },
  {
   "cell_type": "code",
   "execution_count": 11,
   "metadata": {},
   "outputs": [
    {
     "data": {
      "text/html": [
       "<div>\n",
       "<style scoped>\n",
       "    .dataframe tbody tr th:only-of-type {\n",
       "        vertical-align: middle;\n",
       "    }\n",
       "\n",
       "    .dataframe tbody tr th {\n",
       "        vertical-align: top;\n",
       "    }\n",
       "\n",
       "    .dataframe thead th {\n",
       "        text-align: right;\n",
       "    }\n",
       "</style>\n",
       "<table border=\"1\" class=\"dataframe\">\n",
       "  <thead>\n",
       "    <tr style=\"text-align: right;\">\n",
       "      <th></th>\n",
       "      <th>CODE</th>\n",
       "      <th>CUSTID</th>\n",
       "      <th>LOANID</th>\n",
       "      <th>LOANAMT</th>\n",
       "      <th>DISB_DATE</th>\n",
       "      <th>AGE</th>\n",
       "      <th>PRODUCT</th>\n",
       "    </tr>\n",
       "  </thead>\n",
       "  <tbody>\n",
       "    <tr>\n",
       "      <th>0</th>\n",
       "      <td>2</td>\n",
       "      <td>155</td>\n",
       "      <td>2006</td>\n",
       "      <td>140000.0</td>\n",
       "      <td>2024-06-14</td>\n",
       "      <td>40</td>\n",
       "      <td>Gold Loan</td>\n",
       "    </tr>\n",
       "    <tr>\n",
       "      <th>1</th>\n",
       "      <td>4</td>\n",
       "      <td>108</td>\n",
       "      <td>2012</td>\n",
       "      <td>65000.0</td>\n",
       "      <td>2024-07-19</td>\n",
       "      <td>36</td>\n",
       "      <td>Credit Card</td>\n",
       "    </tr>\n",
       "    <tr>\n",
       "      <th>2</th>\n",
       "      <td>2</td>\n",
       "      <td>114</td>\n",
       "      <td>2014</td>\n",
       "      <td>90000.0</td>\n",
       "      <td>2024-09-04</td>\n",
       "      <td>35</td>\n",
       "      <td>Loan Against Property</td>\n",
       "    </tr>\n",
       "    <tr>\n",
       "      <th>3</th>\n",
       "      <td>5</td>\n",
       "      <td>131</td>\n",
       "      <td>2080</td>\n",
       "      <td>126000.0</td>\n",
       "      <td>2024-05-02</td>\n",
       "      <td>30</td>\n",
       "      <td>Personal Loan</td>\n",
       "    </tr>\n",
       "    <tr>\n",
       "      <th>4</th>\n",
       "      <td>5</td>\n",
       "      <td>148</td>\n",
       "      <td>2075</td>\n",
       "      <td>118000.0</td>\n",
       "      <td>2024-07-24</td>\n",
       "      <td>37</td>\n",
       "      <td>Loan Against Property</td>\n",
       "    </tr>\n",
       "  </tbody>\n",
       "</table>\n",
       "</div>"
      ],
      "text/plain": [
       "   CODE  CUSTID  LOANID   LOANAMT   DISB_DATE  AGE                PRODUCT\n",
       "0     2     155    2006  140000.0  2024-06-14   40              Gold Loan\n",
       "1     4     108    2012   65000.0  2024-07-19   36            Credit Card\n",
       "2     2     114    2014   90000.0  2024-09-04   35  Loan Against Property\n",
       "3     5     131    2080  126000.0  2024-05-02   30          Personal Loan\n",
       "4     5     148    2075  118000.0  2024-07-24   37  Loan Against Property"
      ]
     },
     "execution_count": 11,
     "metadata": {},
     "output_type": "execute_result"
    }
   ],
   "source": [
    "df = pd.merge(customer, product, on = 'LOANID', how = 'right' )\n",
    "df.head()"
   ]
  },
  {
   "cell_type": "code",
   "execution_count": 9,
   "metadata": {},
   "outputs": [],
   "source": [
    "df = pd.merge(customer, product, on = 'LOANID', how = 'left' )"
   ]
  },
  {
   "cell_type": "code",
   "execution_count": 10,
   "metadata": {},
   "outputs": [
    {
     "data": {
      "text/html": [
       "<div>\n",
       "<style scoped>\n",
       "    .dataframe tbody tr th:only-of-type {\n",
       "        vertical-align: middle;\n",
       "    }\n",
       "\n",
       "    .dataframe tbody tr th {\n",
       "        vertical-align: top;\n",
       "    }\n",
       "\n",
       "    .dataframe thead th {\n",
       "        text-align: right;\n",
       "    }\n",
       "</style>\n",
       "<table border=\"1\" class=\"dataframe\">\n",
       "  <thead>\n",
       "    <tr style=\"text-align: right;\">\n",
       "      <th></th>\n",
       "      <th>CODE</th>\n",
       "      <th>CUSTID</th>\n",
       "      <th>LOANID</th>\n",
       "      <th>LOANAMT</th>\n",
       "      <th>DISB_DATE</th>\n",
       "      <th>AGE</th>\n",
       "      <th>PRODUCT</th>\n",
       "    </tr>\n",
       "  </thead>\n",
       "  <tbody>\n",
       "    <tr>\n",
       "      <th>0</th>\n",
       "      <td>2</td>\n",
       "      <td>187</td>\n",
       "      <td>2086</td>\n",
       "      <td>32000.0</td>\n",
       "      <td>2024-05-25</td>\n",
       "      <td>31</td>\n",
       "      <td>Loan Against Property</td>\n",
       "    </tr>\n",
       "    <tr>\n",
       "      <th>1</th>\n",
       "      <td>5</td>\n",
       "      <td>124</td>\n",
       "      <td>2048</td>\n",
       "      <td>145000.0</td>\n",
       "      <td>2024-04-05</td>\n",
       "      <td>40</td>\n",
       "      <td>Personal Loan</td>\n",
       "    </tr>\n",
       "    <tr>\n",
       "      <th>2</th>\n",
       "      <td>1</td>\n",
       "      <td>131</td>\n",
       "      <td>2008</td>\n",
       "      <td>99000.0</td>\n",
       "      <td>2024-07-06</td>\n",
       "      <td>32</td>\n",
       "      <td>Gold Loan</td>\n",
       "    </tr>\n",
       "    <tr>\n",
       "      <th>3</th>\n",
       "      <td>2</td>\n",
       "      <td>148</td>\n",
       "      <td>2100</td>\n",
       "      <td>151000.0</td>\n",
       "      <td>2024-09-14</td>\n",
       "      <td>34</td>\n",
       "      <td>Credit Card</td>\n",
       "    </tr>\n",
       "    <tr>\n",
       "      <th>4</th>\n",
       "      <td>2</td>\n",
       "      <td>195</td>\n",
       "      <td>2051</td>\n",
       "      <td>136000.0</td>\n",
       "      <td>2024-09-05</td>\n",
       "      <td>34</td>\n",
       "      <td>Gold Loan</td>\n",
       "    </tr>\n",
       "  </tbody>\n",
       "</table>\n",
       "</div>"
      ],
      "text/plain": [
       "   CODE  CUSTID  LOANID   LOANAMT   DISB_DATE  AGE                PRODUCT\n",
       "0     2     187    2086   32000.0  2024-05-25   31  Loan Against Property\n",
       "1     5     124    2048  145000.0  2024-04-05   40          Personal Loan\n",
       "2     1     131    2008   99000.0  2024-07-06   32              Gold Loan\n",
       "3     2     148    2100  151000.0  2024-09-14   34            Credit Card\n",
       "4     2     195    2051  136000.0  2024-09-05   34              Gold Loan"
      ]
     },
     "execution_count": 10,
     "metadata": {},
     "output_type": "execute_result"
    }
   ],
   "source": [
    "df.head()"
   ]
  },
  {
   "cell_type": "code",
   "execution_count": 11,
   "metadata": {},
   "outputs": [
    {
     "data": {
      "text/plain": [
       "(110, 7)"
      ]
     },
     "execution_count": 11,
     "metadata": {},
     "output_type": "execute_result"
    }
   ],
   "source": [
    "df.shape"
   ]
  },
  {
   "cell_type": "code",
   "execution_count": 12,
   "metadata": {},
   "outputs": [
    {
     "data": {
      "text/plain": [
       "10"
      ]
     },
     "execution_count": 12,
     "metadata": {},
     "output_type": "execute_result"
    }
   ],
   "source": [
    "df.duplicated().sum()"
   ]
  },
  {
   "cell_type": "code",
   "execution_count": 13,
   "metadata": {},
   "outputs": [],
   "source": [
    "df =df.drop_duplicates()"
   ]
  },
  {
   "cell_type": "code",
   "execution_count": 14,
   "metadata": {},
   "outputs": [
    {
     "data": {
      "text/plain": [
       "0"
      ]
     },
     "execution_count": 14,
     "metadata": {},
     "output_type": "execute_result"
    }
   ],
   "source": [
    "df.duplicated().sum()"
   ]
  },
  {
   "cell_type": "code",
   "execution_count": 15,
   "metadata": {},
   "outputs": [
    {
     "name": "stdout",
     "output_type": "stream",
     "text": [
      "<class 'pandas.core.frame.DataFrame'>\n",
      "Index: 100 entries, 0 to 108\n",
      "Data columns (total 7 columns):\n",
      " #   Column     Non-Null Count  Dtype  \n",
      "---  ------     --------------  -----  \n",
      " 0   CODE       100 non-null    int64  \n",
      " 1   CUSTID     100 non-null    int64  \n",
      " 2   LOANID     100 non-null    int64  \n",
      " 3   LOANAMT    100 non-null    float64\n",
      " 4   DISB_DATE  100 non-null    object \n",
      " 5   AGE        100 non-null    int64  \n",
      " 6   PRODUCT    100 non-null    object \n",
      "dtypes: float64(1), int64(4), object(2)\n",
      "memory usage: 6.2+ KB\n"
     ]
    }
   ],
   "source": [
    "df.info()"
   ]
  },
  {
   "cell_type": "code",
   "execution_count": 16,
   "metadata": {},
   "outputs": [],
   "source": [
    "import datetime\n",
    "\n",
    "df['DISB_DATE'] = pd.to_datetime(df['DISB_DATE'])"
   ]
  },
  {
   "cell_type": "code",
   "execution_count": 17,
   "metadata": {},
   "outputs": [
    {
     "data": {
      "text/plain": [
       "CODE                  int64\n",
       "CUSTID                int64\n",
       "LOANID                int64\n",
       "LOANAMT             float64\n",
       "DISB_DATE    datetime64[ns]\n",
       "AGE                   int64\n",
       "PRODUCT              object\n",
       "dtype: object"
      ]
     },
     "execution_count": 17,
     "metadata": {},
     "output_type": "execute_result"
    }
   ],
   "source": [
    "df.dtypes"
   ]
  },
  {
   "cell_type": "code",
   "execution_count": 18,
   "metadata": {},
   "outputs": [
    {
     "data": {
      "text/html": [
       "<div>\n",
       "<style scoped>\n",
       "    .dataframe tbody tr th:only-of-type {\n",
       "        vertical-align: middle;\n",
       "    }\n",
       "\n",
       "    .dataframe tbody tr th {\n",
       "        vertical-align: top;\n",
       "    }\n",
       "\n",
       "    .dataframe thead th {\n",
       "        text-align: right;\n",
       "    }\n",
       "</style>\n",
       "<table border=\"1\" class=\"dataframe\">\n",
       "  <thead>\n",
       "    <tr style=\"text-align: right;\">\n",
       "      <th></th>\n",
       "      <th>CODE</th>\n",
       "      <th>CUSTID</th>\n",
       "      <th>LOANID</th>\n",
       "      <th>LOANAMT</th>\n",
       "      <th>DISB_DATE</th>\n",
       "      <th>AGE</th>\n",
       "      <th>PRODUCT</th>\n",
       "    </tr>\n",
       "  </thead>\n",
       "  <tbody>\n",
       "    <tr>\n",
       "      <th>0</th>\n",
       "      <td>2</td>\n",
       "      <td>187</td>\n",
       "      <td>2086</td>\n",
       "      <td>32000.0</td>\n",
       "      <td>2024-05-25</td>\n",
       "      <td>31</td>\n",
       "      <td>Loan Against Property</td>\n",
       "    </tr>\n",
       "    <tr>\n",
       "      <th>1</th>\n",
       "      <td>5</td>\n",
       "      <td>124</td>\n",
       "      <td>2048</td>\n",
       "      <td>145000.0</td>\n",
       "      <td>2024-04-05</td>\n",
       "      <td>40</td>\n",
       "      <td>Personal Loan</td>\n",
       "    </tr>\n",
       "    <tr>\n",
       "      <th>2</th>\n",
       "      <td>1</td>\n",
       "      <td>131</td>\n",
       "      <td>2008</td>\n",
       "      <td>99000.0</td>\n",
       "      <td>2024-07-06</td>\n",
       "      <td>32</td>\n",
       "      <td>Gold Loan</td>\n",
       "    </tr>\n",
       "    <tr>\n",
       "      <th>3</th>\n",
       "      <td>2</td>\n",
       "      <td>148</td>\n",
       "      <td>2100</td>\n",
       "      <td>151000.0</td>\n",
       "      <td>2024-09-14</td>\n",
       "      <td>34</td>\n",
       "      <td>Credit Card</td>\n",
       "    </tr>\n",
       "    <tr>\n",
       "      <th>4</th>\n",
       "      <td>2</td>\n",
       "      <td>195</td>\n",
       "      <td>2051</td>\n",
       "      <td>136000.0</td>\n",
       "      <td>2024-09-05</td>\n",
       "      <td>34</td>\n",
       "      <td>Gold Loan</td>\n",
       "    </tr>\n",
       "  </tbody>\n",
       "</table>\n",
       "</div>"
      ],
      "text/plain": [
       "   CODE  CUSTID  LOANID   LOANAMT  DISB_DATE  AGE                PRODUCT\n",
       "0     2     187    2086   32000.0 2024-05-25   31  Loan Against Property\n",
       "1     5     124    2048  145000.0 2024-04-05   40          Personal Loan\n",
       "2     1     131    2008   99000.0 2024-07-06   32              Gold Loan\n",
       "3     2     148    2100  151000.0 2024-09-14   34            Credit Card\n",
       "4     2     195    2051  136000.0 2024-09-05   34              Gold Loan"
      ]
     },
     "execution_count": 18,
     "metadata": {},
     "output_type": "execute_result"
    }
   ],
   "source": [
    "df.head()"
   ]
  },
  {
   "cell_type": "code",
   "execution_count": 19,
   "metadata": {},
   "outputs": [
    {
     "data": {
      "text/plain": [
       "(100, 7)"
      ]
     },
     "execution_count": 19,
     "metadata": {},
     "output_type": "execute_result"
    }
   ],
   "source": [
    "df.shape"
   ]
  },
  {
   "cell_type": "code",
   "execution_count": 20,
   "metadata": {},
   "outputs": [
    {
     "data": {
      "text/plain": [
       "CODE         0\n",
       "CUSTID       0\n",
       "LOANID       0\n",
       "LOANAMT      0\n",
       "DISB_DATE    0\n",
       "AGE          0\n",
       "PRODUCT      0\n",
       "dtype: int64"
      ]
     },
     "execution_count": 20,
     "metadata": {},
     "output_type": "execute_result"
    }
   ],
   "source": [
    "df.isnull().sum()"
   ]
  },
  {
   "cell_type": "code",
   "execution_count": 21,
   "metadata": {},
   "outputs": [],
   "source": [
    "df_merge = pd.merge(df , branch, left_on = 'CODE', right_on= 'BRANCH_CODE')"
   ]
  },
  {
   "cell_type": "code",
   "execution_count": 22,
   "metadata": {},
   "outputs": [
    {
     "data": {
      "text/html": [
       "<div>\n",
       "<style scoped>\n",
       "    .dataframe tbody tr th:only-of-type {\n",
       "        vertical-align: middle;\n",
       "    }\n",
       "\n",
       "    .dataframe tbody tr th {\n",
       "        vertical-align: top;\n",
       "    }\n",
       "\n",
       "    .dataframe thead th {\n",
       "        text-align: right;\n",
       "    }\n",
       "</style>\n",
       "<table border=\"1\" class=\"dataframe\">\n",
       "  <thead>\n",
       "    <tr style=\"text-align: right;\">\n",
       "      <th></th>\n",
       "      <th>CODE</th>\n",
       "      <th>CUSTID</th>\n",
       "      <th>LOANID</th>\n",
       "      <th>LOANAMT</th>\n",
       "      <th>DISB_DATE</th>\n",
       "      <th>AGE</th>\n",
       "      <th>PRODUCT</th>\n",
       "      <th>BRANCH_CODE</th>\n",
       "      <th>BRANCH_STATE</th>\n",
       "    </tr>\n",
       "  </thead>\n",
       "  <tbody>\n",
       "    <tr>\n",
       "      <th>0</th>\n",
       "      <td>2</td>\n",
       "      <td>187</td>\n",
       "      <td>2086</td>\n",
       "      <td>32000.0</td>\n",
       "      <td>2024-05-25</td>\n",
       "      <td>31</td>\n",
       "      <td>Loan Against Property</td>\n",
       "      <td>2</td>\n",
       "      <td>Rajasthan</td>\n",
       "    </tr>\n",
       "    <tr>\n",
       "      <th>1</th>\n",
       "      <td>2</td>\n",
       "      <td>148</td>\n",
       "      <td>2100</td>\n",
       "      <td>151000.0</td>\n",
       "      <td>2024-09-14</td>\n",
       "      <td>34</td>\n",
       "      <td>Credit Card</td>\n",
       "      <td>2</td>\n",
       "      <td>Rajasthan</td>\n",
       "    </tr>\n",
       "    <tr>\n",
       "      <th>2</th>\n",
       "      <td>2</td>\n",
       "      <td>195</td>\n",
       "      <td>2051</td>\n",
       "      <td>136000.0</td>\n",
       "      <td>2024-09-05</td>\n",
       "      <td>34</td>\n",
       "      <td>Gold Loan</td>\n",
       "      <td>2</td>\n",
       "      <td>Rajasthan</td>\n",
       "    </tr>\n",
       "    <tr>\n",
       "      <th>3</th>\n",
       "      <td>2</td>\n",
       "      <td>153</td>\n",
       "      <td>2069</td>\n",
       "      <td>116000.0</td>\n",
       "      <td>2024-05-31</td>\n",
       "      <td>29</td>\n",
       "      <td>Home Loan</td>\n",
       "      <td>2</td>\n",
       "      <td>Rajasthan</td>\n",
       "    </tr>\n",
       "    <tr>\n",
       "      <th>4</th>\n",
       "      <td>2</td>\n",
       "      <td>133</td>\n",
       "      <td>2015</td>\n",
       "      <td>71000.0</td>\n",
       "      <td>2024-06-18</td>\n",
       "      <td>31</td>\n",
       "      <td>Gold Loan</td>\n",
       "      <td>2</td>\n",
       "      <td>Rajasthan</td>\n",
       "    </tr>\n",
       "  </tbody>\n",
       "</table>\n",
       "</div>"
      ],
      "text/plain": [
       "   CODE  CUSTID  LOANID   LOANAMT  DISB_DATE  AGE                PRODUCT  \\\n",
       "0     2     187    2086   32000.0 2024-05-25   31  Loan Against Property   \n",
       "1     2     148    2100  151000.0 2024-09-14   34            Credit Card   \n",
       "2     2     195    2051  136000.0 2024-09-05   34              Gold Loan   \n",
       "3     2     153    2069  116000.0 2024-05-31   29              Home Loan   \n",
       "4     2     133    2015   71000.0 2024-06-18   31              Gold Loan   \n",
       "\n",
       "   BRANCH_CODE BRANCH_STATE  \n",
       "0            2    Rajasthan  \n",
       "1            2    Rajasthan  \n",
       "2            2    Rajasthan  \n",
       "3            2    Rajasthan  \n",
       "4            2    Rajasthan  "
      ]
     },
     "execution_count": 22,
     "metadata": {},
     "output_type": "execute_result"
    }
   ],
   "source": [
    "df_merge.head()"
   ]
  },
  {
   "cell_type": "code",
   "execution_count": 23,
   "metadata": {},
   "outputs": [
    {
     "data": {
      "text/html": [
       "<div>\n",
       "<style scoped>\n",
       "    .dataframe tbody tr th:only-of-type {\n",
       "        vertical-align: middle;\n",
       "    }\n",
       "\n",
       "    .dataframe tbody tr th {\n",
       "        vertical-align: top;\n",
       "    }\n",
       "\n",
       "    .dataframe thead th {\n",
       "        text-align: right;\n",
       "    }\n",
       "</style>\n",
       "<table border=\"1\" class=\"dataframe\">\n",
       "  <thead>\n",
       "    <tr style=\"text-align: right;\">\n",
       "      <th></th>\n",
       "      <th>CODE</th>\n",
       "      <th>CUSTID</th>\n",
       "      <th>LOANID</th>\n",
       "      <th>LOANAMT</th>\n",
       "      <th>DISB_DATE</th>\n",
       "      <th>AGE</th>\n",
       "    </tr>\n",
       "  </thead>\n",
       "  <tbody>\n",
       "    <tr>\n",
       "      <th>count</th>\n",
       "      <td>100.000000</td>\n",
       "      <td>100.000000</td>\n",
       "      <td>100.000000</td>\n",
       "      <td>1.000000e+02</td>\n",
       "      <td>100</td>\n",
       "      <td>100.000000</td>\n",
       "    </tr>\n",
       "    <tr>\n",
       "      <th>mean</th>\n",
       "      <td>2.890000</td>\n",
       "      <td>146.780000</td>\n",
       "      <td>2050.500000</td>\n",
       "      <td>1.100210e+06</td>\n",
       "      <td>2024-07-06 22:04:48</td>\n",
       "      <td>35.110000</td>\n",
       "    </tr>\n",
       "    <tr>\n",
       "      <th>min</th>\n",
       "      <td>1.000000</td>\n",
       "      <td>101.000000</td>\n",
       "      <td>2001.000000</td>\n",
       "      <td>-3.000000e+04</td>\n",
       "      <td>2024-04-01 00:00:00</td>\n",
       "      <td>17.000000</td>\n",
       "    </tr>\n",
       "    <tr>\n",
       "      <th>25%</th>\n",
       "      <td>2.000000</td>\n",
       "      <td>120.750000</td>\n",
       "      <td>2025.750000</td>\n",
       "      <td>6.800000e+04</td>\n",
       "      <td>2024-05-30 12:00:00</td>\n",
       "      <td>32.000000</td>\n",
       "    </tr>\n",
       "    <tr>\n",
       "      <th>50%</th>\n",
       "      <td>3.000000</td>\n",
       "      <td>148.000000</td>\n",
       "      <td>2050.500000</td>\n",
       "      <td>1.030000e+05</td>\n",
       "      <td>2024-07-11 12:00:00</td>\n",
       "      <td>34.000000</td>\n",
       "    </tr>\n",
       "    <tr>\n",
       "      <th>75%</th>\n",
       "      <td>4.000000</td>\n",
       "      <td>169.250000</td>\n",
       "      <td>2075.250000</td>\n",
       "      <td>1.362500e+05</td>\n",
       "      <td>2024-08-14 12:00:00</td>\n",
       "      <td>38.000000</td>\n",
       "    </tr>\n",
       "    <tr>\n",
       "      <th>max</th>\n",
       "      <td>5.000000</td>\n",
       "      <td>198.000000</td>\n",
       "      <td>2100.000000</td>\n",
       "      <td>1.000000e+08</td>\n",
       "      <td>2024-09-30 00:00:00</td>\n",
       "      <td>57.000000</td>\n",
       "    </tr>\n",
       "    <tr>\n",
       "      <th>std</th>\n",
       "      <td>1.503498</td>\n",
       "      <td>28.112537</td>\n",
       "      <td>29.011492</td>\n",
       "      <td>9.989997e+06</td>\n",
       "      <td>NaN</td>\n",
       "      <td>5.658452</td>\n",
       "    </tr>\n",
       "  </tbody>\n",
       "</table>\n",
       "</div>"
      ],
      "text/plain": [
       "             CODE      CUSTID       LOANID       LOANAMT            DISB_DATE  \\\n",
       "count  100.000000  100.000000   100.000000  1.000000e+02                  100   \n",
       "mean     2.890000  146.780000  2050.500000  1.100210e+06  2024-07-06 22:04:48   \n",
       "min      1.000000  101.000000  2001.000000 -3.000000e+04  2024-04-01 00:00:00   \n",
       "25%      2.000000  120.750000  2025.750000  6.800000e+04  2024-05-30 12:00:00   \n",
       "50%      3.000000  148.000000  2050.500000  1.030000e+05  2024-07-11 12:00:00   \n",
       "75%      4.000000  169.250000  2075.250000  1.362500e+05  2024-08-14 12:00:00   \n",
       "max      5.000000  198.000000  2100.000000  1.000000e+08  2024-09-30 00:00:00   \n",
       "std      1.503498   28.112537    29.011492  9.989997e+06                  NaN   \n",
       "\n",
       "              AGE  \n",
       "count  100.000000  \n",
       "mean    35.110000  \n",
       "min     17.000000  \n",
       "25%     32.000000  \n",
       "50%     34.000000  \n",
       "75%     38.000000  \n",
       "max     57.000000  \n",
       "std      5.658452  "
      ]
     },
     "execution_count": 23,
     "metadata": {},
     "output_type": "execute_result"
    }
   ],
   "source": [
    "df.describe()"
   ]
  },
  {
   "cell_type": "code",
   "execution_count": 24,
   "metadata": {},
   "outputs": [
    {
     "data": {
      "text/plain": [
       "(100, 9)"
      ]
     },
     "execution_count": 24,
     "metadata": {},
     "output_type": "execute_result"
    }
   ],
   "source": [
    "df_merge.shape"
   ]
  },
  {
   "cell_type": "code",
   "execution_count": 25,
   "metadata": {},
   "outputs": [
    {
     "data": {
      "text/plain": [
       "0"
      ]
     },
     "execution_count": 25,
     "metadata": {},
     "output_type": "execute_result"
    }
   ],
   "source": [
    "df_merge.duplicated().sum()"
   ]
  },
  {
   "cell_type": "code",
   "execution_count": 26,
   "metadata": {},
   "outputs": [
    {
     "data": {
      "text/plain": [
       "CODE            0\n",
       "CUSTID          0\n",
       "LOANID          0\n",
       "LOANAMT         0\n",
       "DISB_DATE       0\n",
       "AGE             0\n",
       "PRODUCT         0\n",
       "BRANCH_CODE     0\n",
       "BRANCH_STATE    0\n",
       "dtype: int64"
      ]
     },
     "execution_count": 26,
     "metadata": {},
     "output_type": "execute_result"
    }
   ],
   "source": [
    "df_merge.isnull().sum()"
   ]
  },
  {
   "cell_type": "code",
   "execution_count": 27,
   "metadata": {},
   "outputs": [
    {
     "data": {
      "text/plain": [
       "PRODUCT\n",
       "Loan Against Property    24\n",
       "Personal Loan            22\n",
       "Gold Loan                19\n",
       "Credit Card              18\n",
       "Home Loan                17\n",
       "Name: count, dtype: int64"
      ]
     },
     "execution_count": 27,
     "metadata": {},
     "output_type": "execute_result"
    }
   ],
   "source": [
    "df_merge['PRODUCT'].value_counts()"
   ]
  },
  {
   "cell_type": "markdown",
   "metadata": {},
   "source": [
    "# SQL Queries"
   ]
  },
  {
   "cell_type": "code",
   "execution_count": 28,
   "metadata": {},
   "outputs": [
    {
     "data": {
      "text/plain": [
       "Index(['CODE', 'CUSTID', 'LOANID', 'LOANAMT', 'DISB_DATE', 'AGE', 'PRODUCT',\n",
       "       'BRANCH_CODE', 'BRANCH_STATE'],\n",
       "      dtype='object')"
      ]
     },
     "execution_count": 28,
     "metadata": {},
     "output_type": "execute_result"
    }
   ],
   "source": [
    "df_merge.columns"
   ]
  },
  {
   "cell_type": "code",
   "execution_count": 29,
   "metadata": {},
   "outputs": [
    {
     "data": {
      "text/plain": [
       "PRODUCT\n",
       "Credit Card                 218000.0\n",
       "Gold Loan                100000000.0\n",
       "Home Loan                   231000.0\n",
       "Loan Against Property       181000.0\n",
       "Personal Loan               181000.0\n",
       "Name: LOANAMT, dtype: float64"
      ]
     },
     "execution_count": 29,
     "metadata": {},
     "output_type": "execute_result"
    }
   ],
   "source": [
    "#Write a query to find the maximum loan amount (LOANAMT) for each product in the dataset.\n",
    "df_merge.groupby(df_merge['PRODUCT'])['LOANAMT'].max()"
   ]
  },
  {
   "cell_type": "code",
   "execution_count": 30,
   "metadata": {},
   "outputs": [
    {
     "data": {
      "text/plain": [
       "BRANCH_STATE\n",
       "Maharashtra    102145000.0\n",
       "Punjab           2373000.0\n",
       "Rajasthan        2413000.0\n",
       "Tamil Nadu       1816000.0\n",
       "West Bengal      1274000.0\n",
       "Name: LOANAMT, dtype: float64"
      ]
     },
     "execution_count": 30,
     "metadata": {},
     "output_type": "execute_result"
    }
   ],
   "source": [
    "#Total Loan Amount per Branch\n",
    "df_merge.groupby(df_merge['BRANCH_STATE'])['LOANAMT'].sum()"
   ]
  },
  {
   "cell_type": "code",
   "execution_count": 31,
   "metadata": {},
   "outputs": [
    {
     "data": {
      "text/plain": [
       "1306506.0240963856"
      ]
     },
     "execution_count": 31,
     "metadata": {},
     "output_type": "execute_result"
    }
   ],
   "source": [
    "#Average Loan Amount for Customers Aged Over 30\n",
    "df_merge[df_merge['AGE'] > 30]['LOANAMT'].mean()"
   ]
  },
  {
   "cell_type": "code",
   "execution_count": 32,
   "metadata": {},
   "outputs": [
    {
     "data": {
      "text/html": [
       "<div>\n",
       "<style scoped>\n",
       "    .dataframe tbody tr th:only-of-type {\n",
       "        vertical-align: middle;\n",
       "    }\n",
       "\n",
       "    .dataframe tbody tr th {\n",
       "        vertical-align: top;\n",
       "    }\n",
       "\n",
       "    .dataframe thead th {\n",
       "        text-align: right;\n",
       "    }\n",
       "</style>\n",
       "<table border=\"1\" class=\"dataframe\">\n",
       "  <thead>\n",
       "    <tr style=\"text-align: right;\">\n",
       "      <th></th>\n",
       "      <th>CODE</th>\n",
       "      <th>CUSTID</th>\n",
       "      <th>LOANID</th>\n",
       "      <th>LOANAMT</th>\n",
       "      <th>DISB_DATE</th>\n",
       "      <th>AGE</th>\n",
       "      <th>PRODUCT</th>\n",
       "      <th>BRANCH_CODE</th>\n",
       "      <th>BRANCH_STATE</th>\n",
       "      <th>month</th>\n",
       "      <th>year</th>\n",
       "      <th>day</th>\n",
       "    </tr>\n",
       "  </thead>\n",
       "  <tbody>\n",
       "    <tr>\n",
       "      <th>1</th>\n",
       "      <td>2</td>\n",
       "      <td>148</td>\n",
       "      <td>2100</td>\n",
       "      <td>151000.0</td>\n",
       "      <td>2024-09-14</td>\n",
       "      <td>34</td>\n",
       "      <td>Credit Card</td>\n",
       "      <td>2</td>\n",
       "      <td>Rajasthan</td>\n",
       "      <td>4.0</td>\n",
       "      <td>2024.0</td>\n",
       "      <td>5.0</td>\n",
       "    </tr>\n",
       "    <tr>\n",
       "      <th>2</th>\n",
       "      <td>2</td>\n",
       "      <td>195</td>\n",
       "      <td>2051</td>\n",
       "      <td>136000.0</td>\n",
       "      <td>2024-09-05</td>\n",
       "      <td>34</td>\n",
       "      <td>Gold Loan</td>\n",
       "      <td>2</td>\n",
       "      <td>Rajasthan</td>\n",
       "      <td>7.0</td>\n",
       "      <td>2024.0</td>\n",
       "      <td>6.0</td>\n",
       "    </tr>\n",
       "    <tr>\n",
       "      <th>7</th>\n",
       "      <td>2</td>\n",
       "      <td>120</td>\n",
       "      <td>2060</td>\n",
       "      <td>36000.0</td>\n",
       "      <td>2024-07-09</td>\n",
       "      <td>29</td>\n",
       "      <td>Personal Loan</td>\n",
       "      <td>2</td>\n",
       "      <td>Rajasthan</td>\n",
       "      <td>7.0</td>\n",
       "      <td>2024.0</td>\n",
       "      <td>17.0</td>\n",
       "    </tr>\n",
       "    <tr>\n",
       "      <th>9</th>\n",
       "      <td>2</td>\n",
       "      <td>130</td>\n",
       "      <td>2049</td>\n",
       "      <td>159000.0</td>\n",
       "      <td>2024-06-27</td>\n",
       "      <td>40</td>\n",
       "      <td>Loan Against Property</td>\n",
       "      <td>2</td>\n",
       "      <td>Rajasthan</td>\n",
       "      <td>6.0</td>\n",
       "      <td>2024.0</td>\n",
       "      <td>5.0</td>\n",
       "    </tr>\n",
       "    <tr>\n",
       "      <th>10</th>\n",
       "      <td>2</td>\n",
       "      <td>107</td>\n",
       "      <td>2019</td>\n",
       "      <td>111000.0</td>\n",
       "      <td>2024-07-23</td>\n",
       "      <td>49</td>\n",
       "      <td>Credit Card</td>\n",
       "      <td>2</td>\n",
       "      <td>Rajasthan</td>\n",
       "      <td>7.0</td>\n",
       "      <td>2024.0</td>\n",
       "      <td>19.0</td>\n",
       "    </tr>\n",
       "    <tr>\n",
       "      <th>...</th>\n",
       "      <td>...</td>\n",
       "      <td>...</td>\n",
       "      <td>...</td>\n",
       "      <td>...</td>\n",
       "      <td>...</td>\n",
       "      <td>...</td>\n",
       "      <td>...</td>\n",
       "      <td>...</td>\n",
       "      <td>...</td>\n",
       "      <td>...</td>\n",
       "      <td>...</td>\n",
       "      <td>...</td>\n",
       "    </tr>\n",
       "    <tr>\n",
       "      <th>95</th>\n",
       "      <td>3</td>\n",
       "      <td>196</td>\n",
       "      <td>2095</td>\n",
       "      <td>120000.0</td>\n",
       "      <td>2024-08-30</td>\n",
       "      <td>36</td>\n",
       "      <td>Personal Loan</td>\n",
       "      <td>3</td>\n",
       "      <td>Tamil Nadu</td>\n",
       "      <td>9.0</td>\n",
       "      <td>2024.0</td>\n",
       "      <td>30.0</td>\n",
       "    </tr>\n",
       "    <tr>\n",
       "      <th>96</th>\n",
       "      <td>3</td>\n",
       "      <td>167</td>\n",
       "      <td>2032</td>\n",
       "      <td>181000.0</td>\n",
       "      <td>2024-08-02</td>\n",
       "      <td>34</td>\n",
       "      <td>Personal Loan</td>\n",
       "      <td>3</td>\n",
       "      <td>Tamil Nadu</td>\n",
       "      <td>7.0</td>\n",
       "      <td>2024.0</td>\n",
       "      <td>24.0</td>\n",
       "    </tr>\n",
       "    <tr>\n",
       "      <th>97</th>\n",
       "      <td>3</td>\n",
       "      <td>194</td>\n",
       "      <td>2042</td>\n",
       "      <td>104000.0</td>\n",
       "      <td>2024-08-16</td>\n",
       "      <td>39</td>\n",
       "      <td>Loan Against Property</td>\n",
       "      <td>3</td>\n",
       "      <td>Tamil Nadu</td>\n",
       "      <td>9.0</td>\n",
       "      <td>2024.0</td>\n",
       "      <td>15.0</td>\n",
       "    </tr>\n",
       "    <tr>\n",
       "      <th>98</th>\n",
       "      <td>3</td>\n",
       "      <td>198</td>\n",
       "      <td>2068</td>\n",
       "      <td>127000.0</td>\n",
       "      <td>2024-09-17</td>\n",
       "      <td>33</td>\n",
       "      <td>Gold Loan</td>\n",
       "      <td>3</td>\n",
       "      <td>Tamil Nadu</td>\n",
       "      <td>8.0</td>\n",
       "      <td>2024.0</td>\n",
       "      <td>16.0</td>\n",
       "    </tr>\n",
       "    <tr>\n",
       "      <th>99</th>\n",
       "      <td>3</td>\n",
       "      <td>105</td>\n",
       "      <td>2079</td>\n",
       "      <td>43000.0</td>\n",
       "      <td>2024-07-12</td>\n",
       "      <td>38</td>\n",
       "      <td>Credit Card</td>\n",
       "      <td>3</td>\n",
       "      <td>Tamil Nadu</td>\n",
       "      <td>8.0</td>\n",
       "      <td>2024.0</td>\n",
       "      <td>7.0</td>\n",
       "    </tr>\n",
       "  </tbody>\n",
       "</table>\n",
       "<p>61 rows × 12 columns</p>\n",
       "</div>"
      ],
      "text/plain": [
       "    CODE  CUSTID  LOANID   LOANAMT  DISB_DATE  AGE                PRODUCT  \\\n",
       "1      2     148    2100  151000.0 2024-09-14   34            Credit Card   \n",
       "2      2     195    2051  136000.0 2024-09-05   34              Gold Loan   \n",
       "7      2     120    2060   36000.0 2024-07-09   29          Personal Loan   \n",
       "9      2     130    2049  159000.0 2024-06-27   40  Loan Against Property   \n",
       "10     2     107    2019  111000.0 2024-07-23   49            Credit Card   \n",
       "..   ...     ...     ...       ...        ...  ...                    ...   \n",
       "95     3     196    2095  120000.0 2024-08-30   36          Personal Loan   \n",
       "96     3     167    2032  181000.0 2024-08-02   34          Personal Loan   \n",
       "97     3     194    2042  104000.0 2024-08-16   39  Loan Against Property   \n",
       "98     3     198    2068  127000.0 2024-09-17   33              Gold Loan   \n",
       "99     3     105    2079   43000.0 2024-07-12   38            Credit Card   \n",
       "\n",
       "    BRANCH_CODE BRANCH_STATE  month    year   day  \n",
       "1             2    Rajasthan    4.0  2024.0   5.0  \n",
       "2             2    Rajasthan    7.0  2024.0   6.0  \n",
       "7             2    Rajasthan    7.0  2024.0  17.0  \n",
       "9             2    Rajasthan    6.0  2024.0   5.0  \n",
       "10            2    Rajasthan    7.0  2024.0  19.0  \n",
       "..          ...          ...    ...     ...   ...  \n",
       "95            3   Tamil Nadu    9.0  2024.0  30.0  \n",
       "96            3   Tamil Nadu    7.0  2024.0  24.0  \n",
       "97            3   Tamil Nadu    9.0  2024.0  15.0  \n",
       "98            3   Tamil Nadu    8.0  2024.0  16.0  \n",
       "99            3   Tamil Nadu    8.0  2024.0   7.0  \n",
       "\n",
       "[61 rows x 12 columns]"
      ]
     },
     "execution_count": 32,
     "metadata": {},
     "output_type": "execute_result"
    }
   ],
   "source": [
    "#Filter Loans Disbursed After June 2024\n",
    "df_merge['month'] = df['DISB_DATE'].dt.month\n",
    "df_merge['year'] = df['DISB_DATE'].dt.year\n",
    "df_merge['day'] = df['DISB_DATE'].dt.day\n",
    "df_merge[df_merge['DISB_DATE'] > '26-06-2024']"
   ]
  },
  {
   "cell_type": "code",
   "execution_count": 33,
   "metadata": {},
   "outputs": [
    {
     "data": {
      "text/plain": [
       "PRODUCT\n",
       "Loan Against Property    24\n",
       "Personal Loan            22\n",
       "Gold Loan                19\n",
       "Credit Card              18\n",
       "Home Loan                17\n",
       "Name: count, dtype: int64"
      ]
     },
     "execution_count": 33,
     "metadata": {},
     "output_type": "execute_result"
    }
   ],
   "source": [
    "#Count of Each Product Type\n",
    "df_merge['PRODUCT'].value_counts()"
   ]
  },
  {
   "cell_type": "code",
   "execution_count": 34,
   "metadata": {},
   "outputs": [
    {
     "data": {
      "text/html": [
       "<div>\n",
       "<style scoped>\n",
       "    .dataframe tbody tr th:only-of-type {\n",
       "        vertical-align: middle;\n",
       "    }\n",
       "\n",
       "    .dataframe tbody tr th {\n",
       "        vertical-align: top;\n",
       "    }\n",
       "\n",
       "    .dataframe thead th {\n",
       "        text-align: right;\n",
       "    }\n",
       "</style>\n",
       "<table border=\"1\" class=\"dataframe\">\n",
       "  <thead>\n",
       "    <tr style=\"text-align: right;\">\n",
       "      <th></th>\n",
       "      <th>CODE</th>\n",
       "      <th>CUSTID</th>\n",
       "      <th>LOANID</th>\n",
       "      <th>LOANAMT</th>\n",
       "      <th>DISB_DATE</th>\n",
       "      <th>AGE</th>\n",
       "      <th>PRODUCT</th>\n",
       "      <th>BRANCH_CODE</th>\n",
       "      <th>BRANCH_STATE</th>\n",
       "      <th>month</th>\n",
       "      <th>year</th>\n",
       "      <th>day</th>\n",
       "    </tr>\n",
       "  </thead>\n",
       "  <tbody>\n",
       "    <tr>\n",
       "      <th>3</th>\n",
       "      <td>2</td>\n",
       "      <td>153</td>\n",
       "      <td>2069</td>\n",
       "      <td>116000.0</td>\n",
       "      <td>2024-05-31</td>\n",
       "      <td>29</td>\n",
       "      <td>Home Loan</td>\n",
       "      <td>2</td>\n",
       "      <td>Rajasthan</td>\n",
       "      <td>9.0</td>\n",
       "      <td>2024.0</td>\n",
       "      <td>14.0</td>\n",
       "    </tr>\n",
       "    <tr>\n",
       "      <th>4</th>\n",
       "      <td>2</td>\n",
       "      <td>133</td>\n",
       "      <td>2015</td>\n",
       "      <td>71000.0</td>\n",
       "      <td>2024-06-18</td>\n",
       "      <td>31</td>\n",
       "      <td>Gold Loan</td>\n",
       "      <td>2</td>\n",
       "      <td>Rajasthan</td>\n",
       "      <td>9.0</td>\n",
       "      <td>2024.0</td>\n",
       "      <td>5.0</td>\n",
       "    </tr>\n",
       "    <tr>\n",
       "      <th>15</th>\n",
       "      <td>2</td>\n",
       "      <td>125</td>\n",
       "      <td>2055</td>\n",
       "      <td>67000.0</td>\n",
       "      <td>2024-08-19</td>\n",
       "      <td>34</td>\n",
       "      <td>Personal Loan</td>\n",
       "      <td>2</td>\n",
       "      <td>Rajasthan</td>\n",
       "      <td>9.0</td>\n",
       "      <td>2024.0</td>\n",
       "      <td>14.0</td>\n",
       "    </tr>\n",
       "    <tr>\n",
       "      <th>27</th>\n",
       "      <td>5</td>\n",
       "      <td>150</td>\n",
       "      <td>2021</td>\n",
       "      <td>147000.0</td>\n",
       "      <td>2024-04-27</td>\n",
       "      <td>28</td>\n",
       "      <td>Credit Card</td>\n",
       "      <td>5</td>\n",
       "      <td>Punjab</td>\n",
       "      <td>9.0</td>\n",
       "      <td>2024.0</td>\n",
       "      <td>17.0</td>\n",
       "    </tr>\n",
       "    <tr>\n",
       "      <th>29</th>\n",
       "      <td>5</td>\n",
       "      <td>174</td>\n",
       "      <td>2077</td>\n",
       "      <td>59000.0</td>\n",
       "      <td>2024-09-19</td>\n",
       "      <td>33</td>\n",
       "      <td>Gold Loan</td>\n",
       "      <td>5</td>\n",
       "      <td>Punjab</td>\n",
       "      <td>9.0</td>\n",
       "      <td>2024.0</td>\n",
       "      <td>19.0</td>\n",
       "    </tr>\n",
       "    <tr>\n",
       "      <th>36</th>\n",
       "      <td>5</td>\n",
       "      <td>113</td>\n",
       "      <td>2092</td>\n",
       "      <td>126000.0</td>\n",
       "      <td>2024-09-24</td>\n",
       "      <td>36</td>\n",
       "      <td>Loan Against Property</td>\n",
       "      <td>5</td>\n",
       "      <td>Punjab</td>\n",
       "      <td>9.0</td>\n",
       "      <td>2024.0</td>\n",
       "      <td>2.0</td>\n",
       "    </tr>\n",
       "    <tr>\n",
       "      <th>40</th>\n",
       "      <td>5</td>\n",
       "      <td>175</td>\n",
       "      <td>2076</td>\n",
       "      <td>91000.0</td>\n",
       "      <td>2024-07-16</td>\n",
       "      <td>37</td>\n",
       "      <td>Loan Against Property</td>\n",
       "      <td>5</td>\n",
       "      <td>Punjab</td>\n",
       "      <td>9.0</td>\n",
       "      <td>2024.0</td>\n",
       "      <td>4.0</td>\n",
       "    </tr>\n",
       "    <tr>\n",
       "      <th>47</th>\n",
       "      <td>5</td>\n",
       "      <td>178</td>\n",
       "      <td>2039</td>\n",
       "      <td>137000.0</td>\n",
       "      <td>2024-08-09</td>\n",
       "      <td>34</td>\n",
       "      <td>Personal Loan</td>\n",
       "      <td>5</td>\n",
       "      <td>Punjab</td>\n",
       "      <td>9.0</td>\n",
       "      <td>2024.0</td>\n",
       "      <td>24.0</td>\n",
       "    </tr>\n",
       "    <tr>\n",
       "      <th>62</th>\n",
       "      <td>1</td>\n",
       "      <td>146</td>\n",
       "      <td>2045</td>\n",
       "      <td>29000.0</td>\n",
       "      <td>2024-09-13</td>\n",
       "      <td>37</td>\n",
       "      <td>Credit Card</td>\n",
       "      <td>1</td>\n",
       "      <td>Maharashtra</td>\n",
       "      <td>9.0</td>\n",
       "      <td>2024.0</td>\n",
       "      <td>1.0</td>\n",
       "    </tr>\n",
       "    <tr>\n",
       "      <th>67</th>\n",
       "      <td>1</td>\n",
       "      <td>101</td>\n",
       "      <td>2001</td>\n",
       "      <td>100000000.0</td>\n",
       "      <td>2024-05-23</td>\n",
       "      <td>57</td>\n",
       "      <td>Gold Loan</td>\n",
       "      <td>1</td>\n",
       "      <td>Maharashtra</td>\n",
       "      <td>9.0</td>\n",
       "      <td>2024.0</td>\n",
       "      <td>26.0</td>\n",
       "    </tr>\n",
       "    <tr>\n",
       "      <th>72</th>\n",
       "      <td>4</td>\n",
       "      <td>118</td>\n",
       "      <td>2085</td>\n",
       "      <td>90000.0</td>\n",
       "      <td>2024-06-05</td>\n",
       "      <td>36</td>\n",
       "      <td>Personal Loan</td>\n",
       "      <td>4</td>\n",
       "      <td>West Bengal</td>\n",
       "      <td>9.0</td>\n",
       "      <td>2024.0</td>\n",
       "      <td>13.0</td>\n",
       "    </tr>\n",
       "    <tr>\n",
       "      <th>76</th>\n",
       "      <td>4</td>\n",
       "      <td>164</td>\n",
       "      <td>2005</td>\n",
       "      <td>97000.0</td>\n",
       "      <td>2024-07-30</td>\n",
       "      <td>32</td>\n",
       "      <td>Personal Loan</td>\n",
       "      <td>4</td>\n",
       "      <td>West Bengal</td>\n",
       "      <td>9.0</td>\n",
       "      <td>2024.0</td>\n",
       "      <td>26.0</td>\n",
       "    </tr>\n",
       "    <tr>\n",
       "      <th>95</th>\n",
       "      <td>3</td>\n",
       "      <td>196</td>\n",
       "      <td>2095</td>\n",
       "      <td>120000.0</td>\n",
       "      <td>2024-08-30</td>\n",
       "      <td>36</td>\n",
       "      <td>Personal Loan</td>\n",
       "      <td>3</td>\n",
       "      <td>Tamil Nadu</td>\n",
       "      <td>9.0</td>\n",
       "      <td>2024.0</td>\n",
       "      <td>30.0</td>\n",
       "    </tr>\n",
       "    <tr>\n",
       "      <th>97</th>\n",
       "      <td>3</td>\n",
       "      <td>194</td>\n",
       "      <td>2042</td>\n",
       "      <td>104000.0</td>\n",
       "      <td>2024-08-16</td>\n",
       "      <td>39</td>\n",
       "      <td>Loan Against Property</td>\n",
       "      <td>3</td>\n",
       "      <td>Tamil Nadu</td>\n",
       "      <td>9.0</td>\n",
       "      <td>2024.0</td>\n",
       "      <td>15.0</td>\n",
       "    </tr>\n",
       "  </tbody>\n",
       "</table>\n",
       "</div>"
      ],
      "text/plain": [
       "    CODE  CUSTID  LOANID      LOANAMT  DISB_DATE  AGE                PRODUCT  \\\n",
       "3      2     153    2069     116000.0 2024-05-31   29              Home Loan   \n",
       "4      2     133    2015      71000.0 2024-06-18   31              Gold Loan   \n",
       "15     2     125    2055      67000.0 2024-08-19   34          Personal Loan   \n",
       "27     5     150    2021     147000.0 2024-04-27   28            Credit Card   \n",
       "29     5     174    2077      59000.0 2024-09-19   33              Gold Loan   \n",
       "36     5     113    2092     126000.0 2024-09-24   36  Loan Against Property   \n",
       "40     5     175    2076      91000.0 2024-07-16   37  Loan Against Property   \n",
       "47     5     178    2039     137000.0 2024-08-09   34          Personal Loan   \n",
       "62     1     146    2045      29000.0 2024-09-13   37            Credit Card   \n",
       "67     1     101    2001  100000000.0 2024-05-23   57              Gold Loan   \n",
       "72     4     118    2085      90000.0 2024-06-05   36          Personal Loan   \n",
       "76     4     164    2005      97000.0 2024-07-30   32          Personal Loan   \n",
       "95     3     196    2095     120000.0 2024-08-30   36          Personal Loan   \n",
       "97     3     194    2042     104000.0 2024-08-16   39  Loan Against Property   \n",
       "\n",
       "    BRANCH_CODE BRANCH_STATE  month    year   day  \n",
       "3             2    Rajasthan    9.0  2024.0  14.0  \n",
       "4             2    Rajasthan    9.0  2024.0   5.0  \n",
       "15            2    Rajasthan    9.0  2024.0  14.0  \n",
       "27            5       Punjab    9.0  2024.0  17.0  \n",
       "29            5       Punjab    9.0  2024.0  19.0  \n",
       "36            5       Punjab    9.0  2024.0   2.0  \n",
       "40            5       Punjab    9.0  2024.0   4.0  \n",
       "47            5       Punjab    9.0  2024.0  24.0  \n",
       "62            1  Maharashtra    9.0  2024.0   1.0  \n",
       "67            1  Maharashtra    9.0  2024.0  26.0  \n",
       "72            4  West Bengal    9.0  2024.0  13.0  \n",
       "76            4  West Bengal    9.0  2024.0  26.0  \n",
       "95            3   Tamil Nadu    9.0  2024.0  30.0  \n",
       "97            3   Tamil Nadu    9.0  2024.0  15.0  "
      ]
     },
     "execution_count": 34,
     "metadata": {},
     "output_type": "execute_result"
    }
   ],
   "source": [
    "#Find Loans Disbursed in a Specific Month (e.g., September 2024)\n",
    "df_merge[df_merge['month'] == 9]"
   ]
  },
  {
   "cell_type": "code",
   "execution_count": 35,
   "metadata": {},
   "outputs": [
    {
     "data": {
      "text/plain": [
       "0     1032.258065\n",
       "1     4441.176471\n",
       "2     4000.000000\n",
       "3     4000.000000\n",
       "4     2290.322581\n",
       "         ...     \n",
       "95    3333.333333\n",
       "96    5323.529412\n",
       "97    2666.666667\n",
       "98    3848.484848\n",
       "99    1131.578947\n",
       "Name: loanratio, Length: 100, dtype: float64"
      ]
     },
     "execution_count": 35,
     "metadata": {},
     "output_type": "execute_result"
    }
   ],
   "source": [
    "#Calculate the Loan-to-Age Ratio\n",
    "df_merge['loanratio'] = df_merge['LOANAMT']/ df_merge['AGE']\n",
    "df_merge['loanratio']"
   ]
  },
  {
   "cell_type": "code",
   "execution_count": 36,
   "metadata": {},
   "outputs": [
    {
     "data": {
      "text/plain": [
       "CUSTID\n",
       "174    4\n",
       "164    4\n",
       "187    3\n",
       "113    3\n",
       "161    3\n",
       "121    3\n",
       "124    3\n",
       "148    3\n",
       "119    3\n",
       "188    2\n",
       "155    2\n",
       "150    2\n",
       "180    2\n",
       "196    2\n",
       "175    2\n",
       "165    2\n",
       "168    2\n",
       "105    2\n",
       "125    2\n",
       "130    2\n",
       "137    2\n",
       "116    2\n",
       "131    2\n",
       "118    2\n",
       "120    2\n",
       "108    2\n",
       "173    2\n",
       "136    2\n",
       "190    2\n",
       "Name: count, dtype: int64"
      ]
     },
     "execution_count": 36,
     "metadata": {},
     "output_type": "execute_result"
    }
   ],
   "source": [
    "#Identify Customers with Multiple Loans\n",
    "df[\"CUSTID\"].value_counts()[df[\"CUSTID\"].value_counts() > 1]"
   ]
  },
  {
   "cell_type": "code",
   "execution_count": 37,
   "metadata": {},
   "outputs": [
    {
     "data": {
      "text/plain": [
       "1"
      ]
     },
     "execution_count": 37,
     "metadata": {},
     "output_type": "execute_result"
    }
   ],
   "source": [
    "#Branch with Highest Average Loan Amount\n",
    "df_merge.groupby(\"BRANCH_CODE\")[\"LOANAMT\"].mean().idxmax()"
   ]
  },
  {
   "cell_type": "code",
   "execution_count": 38,
   "metadata": {},
   "outputs": [
    {
     "data": {
      "text/html": [
       "<div>\n",
       "<style scoped>\n",
       "    .dataframe tbody tr th:only-of-type {\n",
       "        vertical-align: middle;\n",
       "    }\n",
       "\n",
       "    .dataframe tbody tr th {\n",
       "        vertical-align: top;\n",
       "    }\n",
       "\n",
       "    .dataframe thead th {\n",
       "        text-align: right;\n",
       "    }\n",
       "</style>\n",
       "<table border=\"1\" class=\"dataframe\">\n",
       "  <thead>\n",
       "    <tr style=\"text-align: right;\">\n",
       "      <th></th>\n",
       "      <th>CODE</th>\n",
       "      <th>CUSTID</th>\n",
       "      <th>LOANID</th>\n",
       "      <th>LOANAMT</th>\n",
       "      <th>DISB_DATE</th>\n",
       "      <th>AGE</th>\n",
       "      <th>PRODUCT</th>\n",
       "      <th>BRANCH_CODE</th>\n",
       "      <th>BRANCH_STATE</th>\n",
       "      <th>month</th>\n",
       "      <th>year</th>\n",
       "      <th>day</th>\n",
       "      <th>loanratio</th>\n",
       "    </tr>\n",
       "  </thead>\n",
       "  <tbody>\n",
       "    <tr>\n",
       "      <th>67</th>\n",
       "      <td>1</td>\n",
       "      <td>101</td>\n",
       "      <td>2001</td>\n",
       "      <td>100000000.0</td>\n",
       "      <td>2024-05-23</td>\n",
       "      <td>57</td>\n",
       "      <td>Gold Loan</td>\n",
       "      <td>1</td>\n",
       "      <td>Maharashtra</td>\n",
       "      <td>9.0</td>\n",
       "      <td>2024.0</td>\n",
       "      <td>26.0</td>\n",
       "      <td>1.754386e+06</td>\n",
       "    </tr>\n",
       "    <tr>\n",
       "      <th>58</th>\n",
       "      <td>1</td>\n",
       "      <td>130</td>\n",
       "      <td>2046</td>\n",
       "      <td>190000.0</td>\n",
       "      <td>2024-08-22</td>\n",
       "      <td>32</td>\n",
       "      <td>Gold Loan</td>\n",
       "      <td>1</td>\n",
       "      <td>Maharashtra</td>\n",
       "      <td>NaN</td>\n",
       "      <td>NaN</td>\n",
       "      <td>NaN</td>\n",
       "      <td>5.937500e+03</td>\n",
       "    </tr>\n",
       "    <tr>\n",
       "      <th>94</th>\n",
       "      <td>3</td>\n",
       "      <td>155</td>\n",
       "      <td>2043</td>\n",
       "      <td>174000.0</td>\n",
       "      <td>2024-07-04</td>\n",
       "      <td>31</td>\n",
       "      <td>Gold Loan</td>\n",
       "      <td>3</td>\n",
       "      <td>Tamil Nadu</td>\n",
       "      <td>5.0</td>\n",
       "      <td>2024.0</td>\n",
       "      <td>23.0</td>\n",
       "      <td>5.612903e+03</td>\n",
       "    </tr>\n",
       "    <tr>\n",
       "      <th>13</th>\n",
       "      <td>2</td>\n",
       "      <td>155</td>\n",
       "      <td>2006</td>\n",
       "      <td>140000.0</td>\n",
       "      <td>2024-06-14</td>\n",
       "      <td>40</td>\n",
       "      <td>Gold Loan</td>\n",
       "      <td>2</td>\n",
       "      <td>Rajasthan</td>\n",
       "      <td>8.0</td>\n",
       "      <td>2024.0</td>\n",
       "      <td>12.0</td>\n",
       "      <td>3.500000e+03</td>\n",
       "    </tr>\n",
       "    <tr>\n",
       "      <th>2</th>\n",
       "      <td>2</td>\n",
       "      <td>195</td>\n",
       "      <td>2051</td>\n",
       "      <td>136000.0</td>\n",
       "      <td>2024-09-05</td>\n",
       "      <td>34</td>\n",
       "      <td>Gold Loan</td>\n",
       "      <td>2</td>\n",
       "      <td>Rajasthan</td>\n",
       "      <td>7.0</td>\n",
       "      <td>2024.0</td>\n",
       "      <td>6.0</td>\n",
       "      <td>4.000000e+03</td>\n",
       "    </tr>\n",
       "    <tr>\n",
       "      <th>98</th>\n",
       "      <td>3</td>\n",
       "      <td>198</td>\n",
       "      <td>2068</td>\n",
       "      <td>127000.0</td>\n",
       "      <td>2024-09-17</td>\n",
       "      <td>33</td>\n",
       "      <td>Gold Loan</td>\n",
       "      <td>3</td>\n",
       "      <td>Tamil Nadu</td>\n",
       "      <td>8.0</td>\n",
       "      <td>2024.0</td>\n",
       "      <td>16.0</td>\n",
       "      <td>3.848485e+03</td>\n",
       "    </tr>\n",
       "    <tr>\n",
       "      <th>68</th>\n",
       "      <td>1</td>\n",
       "      <td>150</td>\n",
       "      <td>2029</td>\n",
       "      <td>126000.0</td>\n",
       "      <td>2024-07-24</td>\n",
       "      <td>47</td>\n",
       "      <td>Gold Loan</td>\n",
       "      <td>1</td>\n",
       "      <td>Maharashtra</td>\n",
       "      <td>8.0</td>\n",
       "      <td>2024.0</td>\n",
       "      <td>20.0</td>\n",
       "      <td>2.680851e+03</td>\n",
       "    </tr>\n",
       "    <tr>\n",
       "      <th>39</th>\n",
       "      <td>5</td>\n",
       "      <td>169</td>\n",
       "      <td>2009</td>\n",
       "      <td>114000.0</td>\n",
       "      <td>2024-06-13</td>\n",
       "      <td>25</td>\n",
       "      <td>Gold Loan</td>\n",
       "      <td>5</td>\n",
       "      <td>Punjab</td>\n",
       "      <td>7.0</td>\n",
       "      <td>2024.0</td>\n",
       "      <td>20.0</td>\n",
       "      <td>4.560000e+03</td>\n",
       "    </tr>\n",
       "    <tr>\n",
       "      <th>5</th>\n",
       "      <td>2</td>\n",
       "      <td>110</td>\n",
       "      <td>2053</td>\n",
       "      <td>102000.0</td>\n",
       "      <td>2024-05-24</td>\n",
       "      <td>29</td>\n",
       "      <td>Gold Loan</td>\n",
       "      <td>2</td>\n",
       "      <td>Rajasthan</td>\n",
       "      <td>6.0</td>\n",
       "      <td>2024.0</td>\n",
       "      <td>5.0</td>\n",
       "      <td>3.517241e+03</td>\n",
       "    </tr>\n",
       "    <tr>\n",
       "      <th>49</th>\n",
       "      <td>1</td>\n",
       "      <td>131</td>\n",
       "      <td>2008</td>\n",
       "      <td>99000.0</td>\n",
       "      <td>2024-07-06</td>\n",
       "      <td>32</td>\n",
       "      <td>Gold Loan</td>\n",
       "      <td>1</td>\n",
       "      <td>Maharashtra</td>\n",
       "      <td>7.0</td>\n",
       "      <td>2024.0</td>\n",
       "      <td>5.0</td>\n",
       "      <td>3.093750e+03</td>\n",
       "    </tr>\n",
       "    <tr>\n",
       "      <th>37</th>\n",
       "      <td>5</td>\n",
       "      <td>113</td>\n",
       "      <td>2067</td>\n",
       "      <td>91000.0</td>\n",
       "      <td>2024-06-14</td>\n",
       "      <td>32</td>\n",
       "      <td>Gold Loan</td>\n",
       "      <td>5</td>\n",
       "      <td>Punjab</td>\n",
       "      <td>7.0</td>\n",
       "      <td>2024.0</td>\n",
       "      <td>20.0</td>\n",
       "      <td>2.843750e+03</td>\n",
       "    </tr>\n",
       "    <tr>\n",
       "      <th>64</th>\n",
       "      <td>1</td>\n",
       "      <td>132</td>\n",
       "      <td>2004</td>\n",
       "      <td>90000.0</td>\n",
       "      <td>2024-07-22</td>\n",
       "      <td>32</td>\n",
       "      <td>Gold Loan</td>\n",
       "      <td>1</td>\n",
       "      <td>Maharashtra</td>\n",
       "      <td>5.0</td>\n",
       "      <td>2024.0</td>\n",
       "      <td>13.0</td>\n",
       "      <td>2.812500e+03</td>\n",
       "    </tr>\n",
       "    <tr>\n",
       "      <th>57</th>\n",
       "      <td>1</td>\n",
       "      <td>189</td>\n",
       "      <td>2026</td>\n",
       "      <td>85000.0</td>\n",
       "      <td>2024-08-01</td>\n",
       "      <td>33</td>\n",
       "      <td>Gold Loan</td>\n",
       "      <td>1</td>\n",
       "      <td>Maharashtra</td>\n",
       "      <td>6.0</td>\n",
       "      <td>2024.0</td>\n",
       "      <td>26.0</td>\n",
       "      <td>2.575758e+03</td>\n",
       "    </tr>\n",
       "    <tr>\n",
       "      <th>63</th>\n",
       "      <td>1</td>\n",
       "      <td>109</td>\n",
       "      <td>2036</td>\n",
       "      <td>83000.0</td>\n",
       "      <td>2024-07-20</td>\n",
       "      <td>37</td>\n",
       "      <td>Gold Loan</td>\n",
       "      <td>1</td>\n",
       "      <td>Maharashtra</td>\n",
       "      <td>6.0</td>\n",
       "      <td>2024.0</td>\n",
       "      <td>13.0</td>\n",
       "      <td>2.243243e+03</td>\n",
       "    </tr>\n",
       "    <tr>\n",
       "      <th>4</th>\n",
       "      <td>2</td>\n",
       "      <td>133</td>\n",
       "      <td>2015</td>\n",
       "      <td>71000.0</td>\n",
       "      <td>2024-06-18</td>\n",
       "      <td>31</td>\n",
       "      <td>Gold Loan</td>\n",
       "      <td>2</td>\n",
       "      <td>Rajasthan</td>\n",
       "      <td>9.0</td>\n",
       "      <td>2024.0</td>\n",
       "      <td>5.0</td>\n",
       "      <td>2.290323e+03</td>\n",
       "    </tr>\n",
       "    <tr>\n",
       "      <th>28</th>\n",
       "      <td>5</td>\n",
       "      <td>125</td>\n",
       "      <td>2063</td>\n",
       "      <td>71000.0</td>\n",
       "      <td>2024-09-17</td>\n",
       "      <td>35</td>\n",
       "      <td>Gold Loan</td>\n",
       "      <td>5</td>\n",
       "      <td>Punjab</td>\n",
       "      <td>6.0</td>\n",
       "      <td>2024.0</td>\n",
       "      <td>27.0</td>\n",
       "      <td>2.028571e+03</td>\n",
       "    </tr>\n",
       "    <tr>\n",
       "      <th>70</th>\n",
       "      <td>1</td>\n",
       "      <td>145</td>\n",
       "      <td>2091</td>\n",
       "      <td>69000.0</td>\n",
       "      <td>2024-08-07</td>\n",
       "      <td>36</td>\n",
       "      <td>Gold Loan</td>\n",
       "      <td>1</td>\n",
       "      <td>Maharashtra</td>\n",
       "      <td>NaN</td>\n",
       "      <td>NaN</td>\n",
       "      <td>NaN</td>\n",
       "      <td>1.916667e+03</td>\n",
       "    </tr>\n",
       "    <tr>\n",
       "      <th>24</th>\n",
       "      <td>2</td>\n",
       "      <td>116</td>\n",
       "      <td>2047</td>\n",
       "      <td>68000.0</td>\n",
       "      <td>2024-04-13</td>\n",
       "      <td>28</td>\n",
       "      <td>Gold Loan</td>\n",
       "      <td>2</td>\n",
       "      <td>Rajasthan</td>\n",
       "      <td>8.0</td>\n",
       "      <td>2024.0</td>\n",
       "      <td>31.0</td>\n",
       "      <td>2.428571e+03</td>\n",
       "    </tr>\n",
       "    <tr>\n",
       "      <th>29</th>\n",
       "      <td>5</td>\n",
       "      <td>174</td>\n",
       "      <td>2077</td>\n",
       "      <td>59000.0</td>\n",
       "      <td>2024-09-19</td>\n",
       "      <td>33</td>\n",
       "      <td>Gold Loan</td>\n",
       "      <td>5</td>\n",
       "      <td>Punjab</td>\n",
       "      <td>9.0</td>\n",
       "      <td>2024.0</td>\n",
       "      <td>19.0</td>\n",
       "      <td>1.787879e+03</td>\n",
       "    </tr>\n",
       "  </tbody>\n",
       "</table>\n",
       "</div>"
      ],
      "text/plain": [
       "    CODE  CUSTID  LOANID      LOANAMT  DISB_DATE  AGE    PRODUCT  BRANCH_CODE  \\\n",
       "67     1     101    2001  100000000.0 2024-05-23   57  Gold Loan            1   \n",
       "58     1     130    2046     190000.0 2024-08-22   32  Gold Loan            1   \n",
       "94     3     155    2043     174000.0 2024-07-04   31  Gold Loan            3   \n",
       "13     2     155    2006     140000.0 2024-06-14   40  Gold Loan            2   \n",
       "2      2     195    2051     136000.0 2024-09-05   34  Gold Loan            2   \n",
       "98     3     198    2068     127000.0 2024-09-17   33  Gold Loan            3   \n",
       "68     1     150    2029     126000.0 2024-07-24   47  Gold Loan            1   \n",
       "39     5     169    2009     114000.0 2024-06-13   25  Gold Loan            5   \n",
       "5      2     110    2053     102000.0 2024-05-24   29  Gold Loan            2   \n",
       "49     1     131    2008      99000.0 2024-07-06   32  Gold Loan            1   \n",
       "37     5     113    2067      91000.0 2024-06-14   32  Gold Loan            5   \n",
       "64     1     132    2004      90000.0 2024-07-22   32  Gold Loan            1   \n",
       "57     1     189    2026      85000.0 2024-08-01   33  Gold Loan            1   \n",
       "63     1     109    2036      83000.0 2024-07-20   37  Gold Loan            1   \n",
       "4      2     133    2015      71000.0 2024-06-18   31  Gold Loan            2   \n",
       "28     5     125    2063      71000.0 2024-09-17   35  Gold Loan            5   \n",
       "70     1     145    2091      69000.0 2024-08-07   36  Gold Loan            1   \n",
       "24     2     116    2047      68000.0 2024-04-13   28  Gold Loan            2   \n",
       "29     5     174    2077      59000.0 2024-09-19   33  Gold Loan            5   \n",
       "\n",
       "   BRANCH_STATE  month    year   day     loanratio  \n",
       "67  Maharashtra    9.0  2024.0  26.0  1.754386e+06  \n",
       "58  Maharashtra    NaN     NaN   NaN  5.937500e+03  \n",
       "94   Tamil Nadu    5.0  2024.0  23.0  5.612903e+03  \n",
       "13    Rajasthan    8.0  2024.0  12.0  3.500000e+03  \n",
       "2     Rajasthan    7.0  2024.0   6.0  4.000000e+03  \n",
       "98   Tamil Nadu    8.0  2024.0  16.0  3.848485e+03  \n",
       "68  Maharashtra    8.0  2024.0  20.0  2.680851e+03  \n",
       "39       Punjab    7.0  2024.0  20.0  4.560000e+03  \n",
       "5     Rajasthan    6.0  2024.0   5.0  3.517241e+03  \n",
       "49  Maharashtra    7.0  2024.0   5.0  3.093750e+03  \n",
       "37       Punjab    7.0  2024.0  20.0  2.843750e+03  \n",
       "64  Maharashtra    5.0  2024.0  13.0  2.812500e+03  \n",
       "57  Maharashtra    6.0  2024.0  26.0  2.575758e+03  \n",
       "63  Maharashtra    6.0  2024.0  13.0  2.243243e+03  \n",
       "4     Rajasthan    9.0  2024.0   5.0  2.290323e+03  \n",
       "28       Punjab    6.0  2024.0  27.0  2.028571e+03  \n",
       "70  Maharashtra    NaN     NaN   NaN  1.916667e+03  \n",
       "24    Rajasthan    8.0  2024.0  31.0  2.428571e+03  \n",
       "29       Punjab    9.0  2024.0  19.0  1.787879e+03  "
      ]
     },
     "execution_count": 38,
     "metadata": {},
     "output_type": "execute_result"
    }
   ],
   "source": [
    "#Find All Gold Loans and Sort by Loan Amount\n",
    "df_filter =df_merge[df_merge['PRODUCT'] == 'Gold Loan']\n",
    "df_filter.sort_values(by ='LOANAMT', ascending = False )"
   ]
  },
  {
   "cell_type": "code",
   "execution_count": 39,
   "metadata": {},
   "outputs": [
    {
     "data": {
      "text/html": [
       "<div>\n",
       "<style scoped>\n",
       "    .dataframe tbody tr th:only-of-type {\n",
       "        vertical-align: middle;\n",
       "    }\n",
       "\n",
       "    .dataframe tbody tr th {\n",
       "        vertical-align: top;\n",
       "    }\n",
       "\n",
       "    .dataframe thead th {\n",
       "        text-align: right;\n",
       "    }\n",
       "</style>\n",
       "<table border=\"1\" class=\"dataframe\">\n",
       "  <thead>\n",
       "    <tr style=\"text-align: right;\">\n",
       "      <th></th>\n",
       "      <th>min</th>\n",
       "      <th>max</th>\n",
       "    </tr>\n",
       "    <tr>\n",
       "      <th>PRODUCT</th>\n",
       "      <th></th>\n",
       "      <th></th>\n",
       "    </tr>\n",
       "  </thead>\n",
       "  <tbody>\n",
       "    <tr>\n",
       "      <th>Credit Card</th>\n",
       "      <td>-30000.0</td>\n",
       "      <td>218000.0</td>\n",
       "    </tr>\n",
       "    <tr>\n",
       "      <th>Gold Loan</th>\n",
       "      <td>59000.0</td>\n",
       "      <td>100000000.0</td>\n",
       "    </tr>\n",
       "    <tr>\n",
       "      <th>Home Loan</th>\n",
       "      <td>-7000.0</td>\n",
       "      <td>231000.0</td>\n",
       "    </tr>\n",
       "    <tr>\n",
       "      <th>Loan Against Property</th>\n",
       "      <td>16000.0</td>\n",
       "      <td>181000.0</td>\n",
       "    </tr>\n",
       "    <tr>\n",
       "      <th>Personal Loan</th>\n",
       "      <td>21000.0</td>\n",
       "      <td>181000.0</td>\n",
       "    </tr>\n",
       "  </tbody>\n",
       "</table>\n",
       "</div>"
      ],
      "text/plain": [
       "                           min          max\n",
       "PRODUCT                                    \n",
       "Credit Card           -30000.0     218000.0\n",
       "Gold Loan              59000.0  100000000.0\n",
       "Home Loan              -7000.0     231000.0\n",
       "Loan Against Property  16000.0     181000.0\n",
       "Personal Loan          21000.0     181000.0"
      ]
     },
     "execution_count": 39,
     "metadata": {},
     "output_type": "execute_result"
    }
   ],
   "source": [
    "#Calculate Loan Amount Range (Min and Max) by Product\n",
    "df_merge.groupby(df_merge['PRODUCT'])['LOANAMT'].agg(['min', 'max'])"
   ]
  },
  {
   "cell_type": "code",
   "execution_count": 40,
   "metadata": {},
   "outputs": [
    {
     "data": {
      "text/plain": [
       "array(['Rajasthan', 'Punjab', 'Maharashtra', 'West Bengal', 'Tamil Nadu'],\n",
       "      dtype=object)"
      ]
     },
     "execution_count": 40,
     "metadata": {},
     "output_type": "execute_result"
    }
   ],
   "source": [
    "#Filter and Show Unique Branch States\n",
    "df_merge['BRANCH_STATE'].unique()"
   ]
  },
  {
   "cell_type": "code",
   "execution_count": 41,
   "metadata": {},
   "outputs": [
    {
     "data": {
      "text/plain": [
       "Index(['CODE', 'CUSTID', 'LOANID', 'LOANAMT', 'DISB_DATE', 'AGE', 'PRODUCT'], dtype='object')"
      ]
     },
     "execution_count": 41,
     "metadata": {},
     "output_type": "execute_result"
    }
   ],
   "source": [
    "df.columns"
   ]
  },
  {
   "cell_type": "code",
   "execution_count": 42,
   "metadata": {},
   "outputs": [
    {
     "data": {
      "text/plain": [
       "24"
      ]
     },
     "execution_count": 42,
     "metadata": {},
     "output_type": "execute_result"
    }
   ],
   "source": [
    "#Identify the Youngest Customer Taking a Home Loan\n",
    "df_merge[df_merge['PRODUCT'] == 'Home Loan']['AGE'].min()"
   ]
  },
  {
   "cell_type": "code",
   "execution_count": 43,
   "metadata": {},
   "outputs": [
    {
     "data": {
      "text/plain": [
       "CUSTID\n",
       "101    100000000.0\n",
       "102        96000.0\n",
       "105       127000.0\n",
       "107       111000.0\n",
       "108       172000.0\n",
       "109        83000.0\n",
       "110       102000.0\n",
       "112        57000.0\n",
       "113       335000.0\n",
       "114        90000.0\n",
       "115        75000.0\n",
       "116       188000.0\n",
       "117       168000.0\n",
       "118       234000.0\n",
       "119       274000.0\n",
       "120       179000.0\n",
       "121       309000.0\n",
       "123       144000.0\n",
       "124       379000.0\n",
       "125       138000.0\n",
       "127        47000.0\n",
       "130       349000.0\n",
       "131       225000.0\n",
       "132        90000.0\n",
       "133        71000.0\n",
       "134        14000.0\n",
       "136       163000.0\n",
       "137       104000.0\n",
       "140       -30000.0\n",
       "145        69000.0\n",
       "146        29000.0\n",
       "148       320000.0\n",
       "149        -3000.0\n",
       "150       273000.0\n",
       "153       116000.0\n",
       "155       314000.0\n",
       "158       181000.0\n",
       "160        86000.0\n",
       "161       259000.0\n",
       "162       118000.0\n",
       "164       360000.0\n",
       "165       180000.0\n",
       "166        56000.0\n",
       "167       181000.0\n",
       "168       175000.0\n",
       "169       114000.0\n",
       "170       147000.0\n",
       "173       171000.0\n",
       "174       447000.0\n",
       "175       150000.0\n",
       "178       137000.0\n",
       "180       361000.0\n",
       "187       340000.0\n",
       "188       221000.0\n",
       "189        85000.0\n",
       "190       239000.0\n",
       "194       104000.0\n",
       "195       136000.0\n",
       "196       234000.0\n",
       "198       127000.0\n",
       "Name: LOANAMT, dtype: float64"
      ]
     },
     "execution_count": 43,
     "metadata": {},
     "output_type": "execute_result"
    }
   ],
   "source": [
    "#Find the Loan Amount for Each Customer ID\n",
    "df.groupby('CUSTID')['LOANAMT'].sum()"
   ]
  },
  {
   "cell_type": "code",
   "execution_count": 44,
   "metadata": {},
   "outputs": [
    {
     "data": {
      "text/plain": [
       "1     34\n",
       "2     34\n",
       "3     29\n",
       "5     29\n",
       "6     38\n",
       "      ..\n",
       "94    31\n",
       "95    36\n",
       "96    34\n",
       "97    39\n",
       "98    33\n",
       "Name: AGE, Length: 62, dtype: int64"
      ]
     },
     "execution_count": 44,
     "metadata": {},
     "output_type": "execute_result"
    }
   ],
   "source": [
    "df_merge[df_merge['LOANAMT'] >= 90000 ]['AGE']"
   ]
  },
  {
   "cell_type": "code",
   "execution_count": 45,
   "metadata": {},
   "outputs": [
    {
     "data": {
      "text/html": [
       "<div>\n",
       "<style scoped>\n",
       "    .dataframe tbody tr th:only-of-type {\n",
       "        vertical-align: middle;\n",
       "    }\n",
       "\n",
       "    .dataframe tbody tr th {\n",
       "        vertical-align: top;\n",
       "    }\n",
       "\n",
       "    .dataframe thead th {\n",
       "        text-align: right;\n",
       "    }\n",
       "</style>\n",
       "<table border=\"1\" class=\"dataframe\">\n",
       "  <thead>\n",
       "    <tr style=\"text-align: right;\">\n",
       "      <th></th>\n",
       "      <th>CODE</th>\n",
       "      <th>CUSTID</th>\n",
       "      <th>LOANID</th>\n",
       "      <th>LOANAMT</th>\n",
       "      <th>DISB_DATE</th>\n",
       "      <th>AGE</th>\n",
       "      <th>PRODUCT</th>\n",
       "    </tr>\n",
       "  </thead>\n",
       "  <tbody>\n",
       "    <tr>\n",
       "      <th>2</th>\n",
       "      <td>1</td>\n",
       "      <td>131</td>\n",
       "      <td>2008</td>\n",
       "      <td>99000.0</td>\n",
       "      <td>2024-07-06</td>\n",
       "      <td>32</td>\n",
       "      <td>Gold Loan</td>\n",
       "    </tr>\n",
       "    <tr>\n",
       "      <th>4</th>\n",
       "      <td>2</td>\n",
       "      <td>195</td>\n",
       "      <td>2051</td>\n",
       "      <td>136000.0</td>\n",
       "      <td>2024-09-05</td>\n",
       "      <td>34</td>\n",
       "      <td>Gold Loan</td>\n",
       "    </tr>\n",
       "    <tr>\n",
       "      <th>8</th>\n",
       "      <td>2</td>\n",
       "      <td>133</td>\n",
       "      <td>2015</td>\n",
       "      <td>71000.0</td>\n",
       "      <td>2024-06-18</td>\n",
       "      <td>31</td>\n",
       "      <td>Gold Loan</td>\n",
       "    </tr>\n",
       "    <tr>\n",
       "      <th>12</th>\n",
       "      <td>2</td>\n",
       "      <td>110</td>\n",
       "      <td>2053</td>\n",
       "      <td>102000.0</td>\n",
       "      <td>2024-05-24</td>\n",
       "      <td>29</td>\n",
       "      <td>Gold Loan</td>\n",
       "    </tr>\n",
       "    <tr>\n",
       "      <th>27</th>\n",
       "      <td>5</td>\n",
       "      <td>125</td>\n",
       "      <td>2063</td>\n",
       "      <td>71000.0</td>\n",
       "      <td>2024-09-17</td>\n",
       "      <td>35</td>\n",
       "      <td>Gold Loan</td>\n",
       "    </tr>\n",
       "    <tr>\n",
       "      <th>29</th>\n",
       "      <td>5</td>\n",
       "      <td>174</td>\n",
       "      <td>2077</td>\n",
       "      <td>59000.0</td>\n",
       "      <td>2024-09-19</td>\n",
       "      <td>33</td>\n",
       "      <td>Gold Loan</td>\n",
       "    </tr>\n",
       "    <tr>\n",
       "      <th>41</th>\n",
       "      <td>2</td>\n",
       "      <td>155</td>\n",
       "      <td>2006</td>\n",
       "      <td>140000.0</td>\n",
       "      <td>2024-06-14</td>\n",
       "      <td>40</td>\n",
       "      <td>Gold Loan</td>\n",
       "    </tr>\n",
       "    <tr>\n",
       "      <th>48</th>\n",
       "      <td>5</td>\n",
       "      <td>113</td>\n",
       "      <td>2067</td>\n",
       "      <td>91000.0</td>\n",
       "      <td>2024-06-14</td>\n",
       "      <td>32</td>\n",
       "      <td>Gold Loan</td>\n",
       "    </tr>\n",
       "    <tr>\n",
       "      <th>53</th>\n",
       "      <td>1</td>\n",
       "      <td>189</td>\n",
       "      <td>2026</td>\n",
       "      <td>85000.0</td>\n",
       "      <td>2024-08-01</td>\n",
       "      <td>33</td>\n",
       "      <td>Gold Loan</td>\n",
       "    </tr>\n",
       "    <tr>\n",
       "      <th>55</th>\n",
       "      <td>1</td>\n",
       "      <td>130</td>\n",
       "      <td>2046</td>\n",
       "      <td>190000.0</td>\n",
       "      <td>2024-08-22</td>\n",
       "      <td>32</td>\n",
       "      <td>Gold Loan</td>\n",
       "    </tr>\n",
       "    <tr>\n",
       "      <th>63</th>\n",
       "      <td>5</td>\n",
       "      <td>169</td>\n",
       "      <td>2009</td>\n",
       "      <td>114000.0</td>\n",
       "      <td>2024-06-13</td>\n",
       "      <td>25</td>\n",
       "      <td>Gold Loan</td>\n",
       "    </tr>\n",
       "    <tr>\n",
       "      <th>71</th>\n",
       "      <td>3</td>\n",
       "      <td>155</td>\n",
       "      <td>2043</td>\n",
       "      <td>174000.0</td>\n",
       "      <td>2024-07-04</td>\n",
       "      <td>31</td>\n",
       "      <td>Gold Loan</td>\n",
       "    </tr>\n",
       "    <tr>\n",
       "      <th>75</th>\n",
       "      <td>1</td>\n",
       "      <td>109</td>\n",
       "      <td>2036</td>\n",
       "      <td>83000.0</td>\n",
       "      <td>2024-07-20</td>\n",
       "      <td>37</td>\n",
       "      <td>Gold Loan</td>\n",
       "    </tr>\n",
       "    <tr>\n",
       "      <th>79</th>\n",
       "      <td>1</td>\n",
       "      <td>132</td>\n",
       "      <td>2004</td>\n",
       "      <td>90000.0</td>\n",
       "      <td>2024-07-22</td>\n",
       "      <td>32</td>\n",
       "      <td>Gold Loan</td>\n",
       "    </tr>\n",
       "    <tr>\n",
       "      <th>94</th>\n",
       "      <td>1</td>\n",
       "      <td>101</td>\n",
       "      <td>2001</td>\n",
       "      <td>100000000.0</td>\n",
       "      <td>2024-05-23</td>\n",
       "      <td>57</td>\n",
       "      <td>Gold Loan</td>\n",
       "    </tr>\n",
       "    <tr>\n",
       "      <th>96</th>\n",
       "      <td>1</td>\n",
       "      <td>150</td>\n",
       "      <td>2029</td>\n",
       "      <td>126000.0</td>\n",
       "      <td>2024-07-24</td>\n",
       "      <td>47</td>\n",
       "      <td>Gold Loan</td>\n",
       "    </tr>\n",
       "    <tr>\n",
       "      <th>99</th>\n",
       "      <td>1</td>\n",
       "      <td>145</td>\n",
       "      <td>2091</td>\n",
       "      <td>69000.0</td>\n",
       "      <td>2024-08-07</td>\n",
       "      <td>36</td>\n",
       "      <td>Gold Loan</td>\n",
       "    </tr>\n",
       "    <tr>\n",
       "      <th>100</th>\n",
       "      <td>3</td>\n",
       "      <td>198</td>\n",
       "      <td>2068</td>\n",
       "      <td>127000.0</td>\n",
       "      <td>2024-09-17</td>\n",
       "      <td>33</td>\n",
       "      <td>Gold Loan</td>\n",
       "    </tr>\n",
       "    <tr>\n",
       "      <th>105</th>\n",
       "      <td>2</td>\n",
       "      <td>116</td>\n",
       "      <td>2047</td>\n",
       "      <td>68000.0</td>\n",
       "      <td>2024-04-13</td>\n",
       "      <td>28</td>\n",
       "      <td>Gold Loan</td>\n",
       "    </tr>\n",
       "  </tbody>\n",
       "</table>\n",
       "</div>"
      ],
      "text/plain": [
       "     CODE  CUSTID  LOANID      LOANAMT  DISB_DATE  AGE    PRODUCT\n",
       "2       1     131    2008      99000.0 2024-07-06   32  Gold Loan\n",
       "4       2     195    2051     136000.0 2024-09-05   34  Gold Loan\n",
       "8       2     133    2015      71000.0 2024-06-18   31  Gold Loan\n",
       "12      2     110    2053     102000.0 2024-05-24   29  Gold Loan\n",
       "27      5     125    2063      71000.0 2024-09-17   35  Gold Loan\n",
       "29      5     174    2077      59000.0 2024-09-19   33  Gold Loan\n",
       "41      2     155    2006     140000.0 2024-06-14   40  Gold Loan\n",
       "48      5     113    2067      91000.0 2024-06-14   32  Gold Loan\n",
       "53      1     189    2026      85000.0 2024-08-01   33  Gold Loan\n",
       "55      1     130    2046     190000.0 2024-08-22   32  Gold Loan\n",
       "63      5     169    2009     114000.0 2024-06-13   25  Gold Loan\n",
       "71      3     155    2043     174000.0 2024-07-04   31  Gold Loan\n",
       "75      1     109    2036      83000.0 2024-07-20   37  Gold Loan\n",
       "79      1     132    2004      90000.0 2024-07-22   32  Gold Loan\n",
       "94      1     101    2001  100000000.0 2024-05-23   57  Gold Loan\n",
       "96      1     150    2029     126000.0 2024-07-24   47  Gold Loan\n",
       "99      1     145    2091      69000.0 2024-08-07   36  Gold Loan\n",
       "100     3     198    2068     127000.0 2024-09-17   33  Gold Loan\n",
       "105     2     116    2047      68000.0 2024-04-13   28  Gold Loan"
      ]
     },
     "execution_count": 45,
     "metadata": {},
     "output_type": "execute_result"
    }
   ],
   "source": [
    "df[df['PRODUCT'] == 'Gold Loan']"
   ]
  },
  {
   "cell_type": "code",
   "execution_count": 46,
   "metadata": {},
   "outputs": [
    {
     "data": {
      "text/plain": [
       "100000000.0"
      ]
     },
     "execution_count": 46,
     "metadata": {},
     "output_type": "execute_result"
    }
   ],
   "source": [
    "df['LOANAMT'].max()"
   ]
  },
  {
   "cell_type": "code",
   "execution_count": 47,
   "metadata": {},
   "outputs": [
    {
     "data": {
      "text/plain": [
       "Index(['CODE', 'CUSTID', 'LOANID', 'LOANAMT', 'DISB_DATE', 'AGE', 'PRODUCT',\n",
       "       'BRANCH_CODE', 'BRANCH_STATE', 'month', 'year', 'day', 'loanratio'],\n",
       "      dtype='object')"
      ]
     },
     "execution_count": 47,
     "metadata": {},
     "output_type": "execute_result"
    }
   ],
   "source": [
    "df_merge.columns"
   ]
  },
  {
   "cell_type": "markdown",
   "metadata": {},
   "source": [
    "# Data Analysis\n",
    "\n",
    "--------------------------------------------------------\n",
    "1. What is the Month On Month trend of Disbursed Amount? (Visualize)\n",
    "2. Visualize the relationship between Age and Disbursed Amount.\n",
    "3. Find top 5 products with highest disbursed amount for each branch state\n",
    "\n"
   ]
  },
  {
   "cell_type": "code",
   "execution_count": 48,
   "metadata": {},
   "outputs": [
    {
     "data": {
      "image/png": "[encoded data removed]",
      "text/plain": [
       "<Figure size 720x360 with 1 Axes>"
      ]
     },
     "metadata": {
      "needs_background": "light"
     },
     "output_type": "display_data"
    }
   ],
   "source": [
    "# What is the Month On Month trend of Disbursed Amount? (Visualize)\n",
    "df_merge['DISB_DATE'] = pd.to_datetime(df['DISB_DATE'])\n",
    "mo_disburse = df_merge.groupby('month')['LOANAMT'].sum()\n",
    "\n",
    "import matplotlib.pyplot as plt\n",
    "\n",
    "plt.figure(figsize = (10,5))\n",
    "mo_disburse.plot(kind = 'line')\n",
    "plt.xlabel('Month')\n",
    "plt.ylabel('Disbursed Amount')\n",
    "plt.show()"
   ]
  },
  {
   "cell_type": "code",
   "execution_count": 49,
   "metadata": {},
   "outputs": [
    {
     "data": {
      "image/png": "[encoded data removed]",
      "text/plain": [
       "<Figure size 720x360 with 1 Axes>"
      ]
     },
     "metadata": {
      "needs_background": "light"
     },
     "output_type": "display_data"
    }
   ],
   "source": [
    "#Visualize the relationship between Age and Disbursed Amount.\n",
    "plt.figure(figsize = (10,5))\n",
    "plt.scatter(df_merge['AGE'], df_merge['LOANAMT'] )\n",
    "plt.show()"
   ]
  },
  {
   "cell_type": "code",
   "execution_count": 50,
   "metadata": {},
   "outputs": [
    {
     "data": {
      "text/plain": [
       "BRANCH_STATE  PRODUCT              \n",
       "Maharashtra   Credit Card                 170000.0\n",
       "              Gold Loan                100000000.0\n",
       "              Home Loan                   140000.0\n",
       "              Loan Against Property       181000.0\n",
       "              Personal Loan               144000.0\n",
       "Punjab        Credit Card                 174000.0\n",
       "              Gold Loan                   114000.0\n",
       "              Home Loan                   114000.0\n",
       "              Loan Against Property       126000.0\n",
       "              Personal Loan               169000.0\n",
       "Rajasthan     Credit Card                 151000.0\n",
       "              Gold Loan                   140000.0\n",
       "              Home Loan                   129000.0\n",
       "              Loan Against Property       159000.0\n",
       "              Personal Loan                96000.0\n",
       "Tamil Nadu    Credit Card                 152000.0\n",
       "              Gold Loan                   174000.0\n",
       "              Home Loan                   231000.0\n",
       "              Loan Against Property       125000.0\n",
       "              Personal Loan               181000.0\n",
       "West Bengal   Credit Card                 218000.0\n",
       "              Home Loan                   147000.0\n",
       "              Loan Against Property       168000.0\n",
       "              Personal Loan               143000.0\n",
       "Name: LOANAMT, dtype: float64"
      ]
     },
     "execution_count": 50,
     "metadata": {},
     "output_type": "execute_result"
    }
   ],
   "source": [
    "# Find top 5 products with highest disbursed amount for each branch state\n",
    "df_merge.groupby(['BRANCH_STATE', 'PRODUCT'])['LOANAMT'].max(5)"
   ]
  },
  {
   "cell_type": "markdown",
   "metadata": {},
   "source": [
    "# Statistical Analysis\n",
    "-------------------------------------------------------\n",
    "1. Find the distribution of Age and Disbursed Amount'\n",
    "2. Find the outlier in the data.  \n",
    "3. Find if there is any correlation between the variables using Heatmap\n",
    "4. Build a simple model to predict the disbursed amount based on other attributes."
   ]
  },
  {
   "cell_type": "code",
   "execution_count": 51,
   "metadata": {},
   "outputs": [
    {
     "data": {
      "image/png": "[encoded data removed]",
      "text/plain": [
       "<Figure size 720x360 with 1 Axes>"
      ]
     },
     "metadata": {
      "needs_background": "light"
     },
     "output_type": "display_data"
    }
   ],
   "source": [
    "#Find the distribution of Age and Disbursed Amount'\n",
    "\n",
    "plt.figure(figsize = (10,5))\n",
    "plt.hist(df_merge['AGE'], bins = 10)\n",
    "plt.show()"
   ]
  },
  {
   "cell_type": "code",
   "execution_count": 52,
   "metadata": {},
   "outputs": [
    {
     "data": {
      "image/png": "[encoded data removed]",
      "text/plain": [
       "<Figure size 720x360 with 1 Axes>"
      ]
     },
     "metadata": {
      "needs_background": "light"
     },
     "output_type": "display_data"
    }
   ],
   "source": [
    "plt.figure(figsize = (10,5))\n",
    "plt.hist(df_merge['LOANAMT'], bins = 20)\n",
    "plt.show()"
   ]
  },
  {
   "cell_type": "code",
   "execution_count": 53,
   "metadata": {},
   "outputs": [
    {
     "data": {
      "image/png": "[encoded data removed]",
      "text/plain": [
       "<Figure size 720x144 with 1 Axes>"
      ]
     },
     "metadata": {
      "needs_background": "light"
     },
     "output_type": "display_data"
    }
   ],
   "source": [
    "#2. Find the outlier in the data.  \n",
    "plt.figure(figsize = (10,2))\n",
    "plt.boxplot(x = df_merge['LOANAMT'])\n",
    "plt.show()"
   ]
  },
  {
   "cell_type": "code",
   "execution_count": 54,
   "metadata": {},
   "outputs": [
    {
     "data": {
      "image/png": "[encoded data removed]",
      "text/plain": [
       "<Figure size 720x144 with 1 Axes>"
      ]
     },
     "metadata": {
      "needs_background": "light"
     },
     "output_type": "display_data"
    }
   ],
   "source": [
    "plt.figure(figsize = (10,2))\n",
    "plt.boxplot(x = df_merge['AGE'])\n",
    "plt.show()"
   ]
  },
  {
   "cell_type": "code",
   "execution_count": 55,
   "metadata": {},
   "outputs": [
    {
     "data": {
      "text/plain": [
       "99"
      ]
     },
     "execution_count": 55,
     "metadata": {},
     "output_type": "execute_result"
    }
   ],
   "source": [
    "#IQR \n",
    "\n",
    "q1 = df_merge['LOANAMT'].quantile(0.25)\n",
    "q3 = df_merge['LOANAMT'].quantile(0.75)\n",
    "\n",
    "IQR = q3 - q1\n",
    "o = df_merge[(df_merge['LOANAMT'] >=  (q1 - 1.5* IQR) )   & (df_merge['LOANAMT'] <= (q3 +1.5 *IQR))]\n",
    "len(o)"
   ]
  },
  {
   "cell_type": "code",
   "execution_count": 56,
   "metadata": {},
   "outputs": [
    {
     "data": {
      "text/plain": [
       "96"
      ]
     },
     "execution_count": 56,
     "metadata": {},
     "output_type": "execute_result"
    }
   ],
   "source": [
    "q1 = df_merge['AGE'].quantile(0.25)\n",
    "q3 = df_merge['AGE'].quantile(0.75)\n",
    "\n",
    "IQR = q3 - q1\n",
    "o = df_merge[(df_merge['AGE'] >=  (q1 - 1.5* IQR) )   & (df_merge['AGE'] <= (q3 +1.5 *IQR))]\n",
    "len(o)"
   ]
  },
  {
   "cell_type": "code",
   "execution_count": 57,
   "metadata": {},
   "outputs": [
    {
     "data": {
      "image/png": "[encoded data removed]",
      "text/plain": [
       "<Figure size 720x360 with 2 Axes>"
      ]
     },
     "metadata": {
      "needs_background": "light"
     },
     "output_type": "display_data"
    }
   ],
   "source": [
    "#3. Find if there is any correlation between the variables using Heatmap\n",
    "import matplotlib.pyplot as plt\n",
    "import seaborn as sns\n",
    "\n",
    "n_columns = df_merge.select_dtypes(include=['number'])\n",
    "\n",
    "cor_mat = n_columns.corr()\n",
    "plt.figure(figsize=(10, 5))\n",
    "sns.heatmap(cor_mat, annot=True)\n",
    "plt.show()\n"
   ]
  },
  {
   "cell_type": "code",
   "execution_count": 58,
   "metadata": {},
   "outputs": [
    {
     "data": {
      "text/plain": [
       "Index(['CODE', 'CUSTID', 'LOANID', 'LOANAMT', 'DISB_DATE', 'AGE', 'PRODUCT',\n",
       "       'BRANCH_CODE', 'BRANCH_STATE', 'month', 'year', 'day', 'loanratio'],\n",
       "      dtype='object')"
      ]
     },
     "execution_count": 58,
     "metadata": {},
     "output_type": "execute_result"
    }
   ],
   "source": [
    "#4. Build a simple model to predict the disbursed amount based on other attributes.\n",
    "df_merge.columns"
   ]
  },
  {
   "cell_type": "code",
   "execution_count": 170,
   "metadata": {},
   "outputs": [],
   "source": [
    "df_m = df_merge.copy()"
   ]
  },
  {
   "cell_type": "code",
   "execution_count": 171,
   "metadata": {},
   "outputs": [],
   "source": [
    "from sklearn.preprocessing import MinMaxScaler, LabelEncoder\n",
    "from sklearn.model_selection import train_test_split\n",
    "from sklearn.linear_model import LinearRegression\n",
    "from sklearn.metrics import mean_squared_error, r2_score"
   ]
  },
  {
   "cell_type": "code",
   "execution_count": 172,
   "metadata": {},
   "outputs": [],
   "source": [
    "c = ['CODE', 'CUSTID', 'LOANID', 'BRANCH_CODE', 'DISB_DATE', 'year']\n",
    "df_m = df_m.drop(columns = c)"
   ]
  },
  {
   "cell_type": "code",
   "execution_count": 173,
   "metadata": {},
   "outputs": [
    {
     "name": "stderr",
     "output_type": "stream",
     "text": [
      "c:\\users\\nishu\\appdata\\local\\programs\\python\\python39\\lib\\site-packages\\sklearn\\preprocessing\\_label.py:114: DataConversionWarning: A column-vector y was passed when a 1d array was expected. Please change the shape of y to (n_samples, ), for example using ravel().\n",
      "  y = column_or_1d(y, warn=True)\n",
      "c:\\users\\nishu\\appdata\\local\\programs\\python\\python39\\lib\\site-packages\\sklearn\\preprocessing\\_label.py:114: DataConversionWarning: A column-vector y was passed when a 1d array was expected. Please change the shape of y to (n_samples, ), for example using ravel().\n",
      "  y = column_or_1d(y, warn=True)\n",
      "c:\\users\\nishu\\appdata\\local\\programs\\python\\python39\\lib\\site-packages\\sklearn\\preprocessing\\_label.py:114: DataConversionWarning: A column-vector y was passed when a 1d array was expected. Please change the shape of y to (n_samples, ), for example using ravel().\n",
      "  y = column_or_1d(y, warn=True)\n"
     ]
    }
   ],
   "source": [
    "# Numerical value\n",
    "df_m['AGE'] = MinMaxScaler().fit_transform(df_m[['AGE']])\n",
    "df_m['loanratio'] = MinMaxScaler().fit_transform(df_m[['loanratio']])\n",
    "\n",
    "\n",
    "#categorical value\n",
    "\n",
    "df_m['PRODUCT'] = LabelEncoder().fit_transform(df_m[['PRODUCT']])\n",
    "df_m['BRANCH_STATE'] = LabelEncoder().fit_transform(df_m[['BRANCH_STATE']])\n",
    "df_m['month'] = LabelEncoder().fit_transform(df_m[['month']])"
   ]
  },
  {
   "cell_type": "code",
   "execution_count": 174,
   "metadata": {},
   "outputs": [
    {
     "data": {
      "text/html": [
       "<div>\n",
       "<style scoped>\n",
       "    .dataframe tbody tr th:only-of-type {\n",
       "        vertical-align: middle;\n",
       "    }\n",
       "\n",
       "    .dataframe tbody tr th {\n",
       "        vertical-align: top;\n",
       "    }\n",
       "\n",
       "    .dataframe thead th {\n",
       "        text-align: right;\n",
       "    }\n",
       "</style>\n",
       "<table border=\"1\" class=\"dataframe\">\n",
       "  <thead>\n",
       "    <tr style=\"text-align: right;\">\n",
       "      <th></th>\n",
       "      <th>LOANAMT</th>\n",
       "      <th>AGE</th>\n",
       "      <th>PRODUCT</th>\n",
       "      <th>BRANCH_STATE</th>\n",
       "      <th>month</th>\n",
       "      <th>day</th>\n",
       "      <th>loanratio</th>\n",
       "    </tr>\n",
       "  </thead>\n",
       "  <tbody>\n",
       "    <tr>\n",
       "      <th>0</th>\n",
       "      <td>32000.0</td>\n",
       "      <td>0.350</td>\n",
       "      <td>3</td>\n",
       "      <td>2</td>\n",
       "      <td>1</td>\n",
       "      <td>25.0</td>\n",
       "      <td>0.001063</td>\n",
       "    </tr>\n",
       "    <tr>\n",
       "      <th>1</th>\n",
       "      <td>151000.0</td>\n",
       "      <td>0.425</td>\n",
       "      <td>0</td>\n",
       "      <td>2</td>\n",
       "      <td>0</td>\n",
       "      <td>5.0</td>\n",
       "      <td>0.003005</td>\n",
       "    </tr>\n",
       "    <tr>\n",
       "      <th>2</th>\n",
       "      <td>136000.0</td>\n",
       "      <td>0.425</td>\n",
       "      <td>1</td>\n",
       "      <td>2</td>\n",
       "      <td>3</td>\n",
       "      <td>6.0</td>\n",
       "      <td>0.002754</td>\n",
       "    </tr>\n",
       "    <tr>\n",
       "      <th>3</th>\n",
       "      <td>116000.0</td>\n",
       "      <td>0.300</td>\n",
       "      <td>2</td>\n",
       "      <td>2</td>\n",
       "      <td>5</td>\n",
       "      <td>14.0</td>\n",
       "      <td>0.002754</td>\n",
       "    </tr>\n",
       "    <tr>\n",
       "      <th>4</th>\n",
       "      <td>71000.0</td>\n",
       "      <td>0.350</td>\n",
       "      <td>1</td>\n",
       "      <td>2</td>\n",
       "      <td>5</td>\n",
       "      <td>5.0</td>\n",
       "      <td>0.001780</td>\n",
       "    </tr>\n",
       "  </tbody>\n",
       "</table>\n",
       "</div>"
      ],
      "text/plain": [
       "    LOANAMT    AGE  PRODUCT  BRANCH_STATE  month   day  loanratio\n",
       "0   32000.0  0.350        3             2      1  25.0   0.001063\n",
       "1  151000.0  0.425        0             2      0   5.0   0.003005\n",
       "2  136000.0  0.425        1             2      3   6.0   0.002754\n",
       "3  116000.0  0.300        2             2      5  14.0   0.002754\n",
       "4   71000.0  0.350        1             2      5   5.0   0.001780"
      ]
     },
     "execution_count": 174,
     "metadata": {},
     "output_type": "execute_result"
    }
   ],
   "source": [
    "df_m.head()"
   ]
  },
  {
   "cell_type": "code",
   "execution_count": 175,
   "metadata": {},
   "outputs": [],
   "source": [
    "df_m.isnull().sum()\n",
    "df_m['day'] = df_m['day'].fillna(df_m['day'].mode()[0])"
   ]
  },
  {
   "cell_type": "code",
   "execution_count": 179,
   "metadata": {},
   "outputs": [],
   "source": [
    "x = df_m.drop('LOANAMT', axis = 1)\n",
    "y = df_m['LOANAMT']\n",
    "x_train, x_test, y_train, y_test = train_test_split(x, y, test_size = 0.2, random_state = 42)"
   ]
  },
  {
   "cell_type": "code",
   "execution_count": 180,
   "metadata": {},
   "outputs": [
    {
     "name": "stdout",
     "output_type": "stream",
     "text": [
      "0.3077561979103879\n",
      "1176625827.1162713\n",
      "0.9999905313560483\n"
     ]
    }
   ],
   "source": [
    "model_linear_s = LinearRegression()\n",
    "\n",
    "model_linear_s.fit(x_train, y_train)\n",
    "\n",
    "y_pred = model_linear_s.predict(x_test)\n",
    "mse_linear = mean_squared_error(y_test, y_pred)\n",
    "rmse_linear = np.sqrt(mse_linear)\n",
    "R_2_s_linear = r2_score(y_test, y_pred)\n",
    "r2_train_la_s = r2_score(y_train, y_train_pred)\n",
    "\n",
    "print(R_2_s_linear)\n",
    "print(mse_linear)\n",
    "print(r2_train_la_s)"
   ]
  },
  {
   "cell_type": "code",
   "execution_count": 181,
   "metadata": {},
   "outputs": [],
   "source": [
    "#overfitted trainig set high n testing set low"
   ]
  }
 ],
 "metadata": {
  "kernelspec": {
   "display_name": "Python 3",
   "language": "python",
   "name": "python3"
  },
  "language_info": {
   "codemirror_mode": {
    "name": "ipython",
    "version": 3
   },
   "file_extension": ".py",
   "mimetype": "text/x-python",
   "name": "python",
   "nbconvert_exporter": "python",
   "pygments_lexer": "ipython3",
   "version": "3.9.0"
  }
 },
 "nbformat": 4,
 "nbformat_minor": 4
}
